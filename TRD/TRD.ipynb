{
 "cells": [
  {
   "cell_type": "markdown",
   "metadata": {},
   "source": [
    "# ALICE Transition Radiation Detector (TRD): PS beam data with prototype chambers"
   ]
  },
  {
   "cell_type": "code",
   "execution_count": 3,
   "metadata": {},
   "outputs": [],
   "source": [
    "import matplotlib.pylab as plt\n",
    "import numpy as np\n",
    "import pandas as pd\n",
    "import seaborn as sns"
   ]
  },
  {
   "cell_type": "markdown",
   "metadata": {},
   "source": [
    "## Import data files for the four smalle chambers in the setup: Ch0, Ch1, Ch2, Ch3"
   ]
  },
  {
   "cell_type": "code",
   "execution_count": 67,
   "metadata": {},
   "outputs": [],
   "source": [
    "data = pd.read_csv('../dat/JN540s1tc0Cha0.csv')\n",
    "#data = pd.read_csv('../dat/JN540s1tc1Cha0.csv')\n",
    "#data = pd.read_csv('../dat/JN540s2tc1Cha0.csv')"
   ]
  },
  {
   "cell_type": "code",
   "execution_count": 68,
   "metadata": {},
   "outputs": [
    {
     "data": {
      "text/plain": [
       "Index(['S00', 'S01', 'S02', 'S03', 'S04', 'S05', 'S06', 'S07', 'S08', 'S09',\n",
       "       'S10', 'S11', 'S12', 'S13', 'S14', 'S15', 'S16', 'S17', 'S18', 'S19',\n",
       "       'S20', 'S21', 'S22', 'S23', 'S24', 'S25', 'S26', 'S27', 'S28', 'S29',\n",
       "       'S30', 'S31', 'S32', 'S33', 'S34', 'S35', 'S36', 'S37', 'S38', 'S39',\n",
       "       'S40', 'S41', 'S42', 'S43', 'S44', 'S45', 'S46', 'S47', 'S48', 'S49',\n",
       "       'S50', 'S51', 'S52', 'S53', 'S54', 'S55', 'S56', 'S57', 'S58', 'S59',\n",
       "       'Electron'],\n",
       "      dtype='object')"
      ]
     },
     "execution_count": 68,
     "metadata": {},
     "output_type": "execute_result"
    }
   ],
   "source": [
    "data.keys()"
   ]
  },
  {
   "cell_type": "code",
   "execution_count": 69,
   "metadata": {},
   "outputs": [
    {
     "data": {
      "text/plain": [
       "(13488, 61)"
      ]
     },
     "execution_count": 69,
     "metadata": {},
     "output_type": "execute_result"
    }
   ],
   "source": [
    "data.shape"
   ]
  },
  {
   "cell_type": "code",
   "execution_count": 70,
   "metadata": {},
   "outputs": [
    {
     "data": {
      "text/html": [
       "<div>\n",
       "<style scoped>\n",
       "    .dataframe tbody tr th:only-of-type {\n",
       "        vertical-align: middle;\n",
       "    }\n",
       "\n",
       "    .dataframe tbody tr th {\n",
       "        vertical-align: top;\n",
       "    }\n",
       "\n",
       "    .dataframe thead th {\n",
       "        text-align: right;\n",
       "    }\n",
       "</style>\n",
       "<table border=\"1\" class=\"dataframe\">\n",
       "  <thead>\n",
       "    <tr style=\"text-align: right;\">\n",
       "      <th></th>\n",
       "      <th>S00</th>\n",
       "      <th>S01</th>\n",
       "      <th>S02</th>\n",
       "      <th>S03</th>\n",
       "      <th>S04</th>\n",
       "      <th>S05</th>\n",
       "      <th>S06</th>\n",
       "      <th>S07</th>\n",
       "      <th>S08</th>\n",
       "      <th>S09</th>\n",
       "      <th>...</th>\n",
       "      <th>S51</th>\n",
       "      <th>S52</th>\n",
       "      <th>S53</th>\n",
       "      <th>S54</th>\n",
       "      <th>S55</th>\n",
       "      <th>S56</th>\n",
       "      <th>S57</th>\n",
       "      <th>S58</th>\n",
       "      <th>S59</th>\n",
       "      <th>Electron</th>\n",
       "    </tr>\n",
       "  </thead>\n",
       "  <tbody>\n",
       "    <tr>\n",
       "      <th>0</th>\n",
       "      <td>14.8</td>\n",
       "      <td>0.0</td>\n",
       "      <td>1.4</td>\n",
       "      <td>0.0</td>\n",
       "      <td>2.3</td>\n",
       "      <td>3.9</td>\n",
       "      <td>5.7</td>\n",
       "      <td>63.1</td>\n",
       "      <td>98.0</td>\n",
       "      <td>93.1</td>\n",
       "      <td>...</td>\n",
       "      <td>26.1</td>\n",
       "      <td>12.1</td>\n",
       "      <td>3.3</td>\n",
       "      <td>2.0</td>\n",
       "      <td>2.7</td>\n",
       "      <td>1.5</td>\n",
       "      <td>2.6</td>\n",
       "      <td>2.1</td>\n",
       "      <td>0.5</td>\n",
       "      <td>1</td>\n",
       "    </tr>\n",
       "    <tr>\n",
       "      <th>1</th>\n",
       "      <td>1.1</td>\n",
       "      <td>0.0</td>\n",
       "      <td>4.1</td>\n",
       "      <td>5.4</td>\n",
       "      <td>1.2</td>\n",
       "      <td>1.4</td>\n",
       "      <td>8.4</td>\n",
       "      <td>63.0</td>\n",
       "      <td>133.9</td>\n",
       "      <td>127.9</td>\n",
       "      <td>...</td>\n",
       "      <td>56.6</td>\n",
       "      <td>32.8</td>\n",
       "      <td>10.6</td>\n",
       "      <td>4.5</td>\n",
       "      <td>1.3</td>\n",
       "      <td>5.0</td>\n",
       "      <td>2.4</td>\n",
       "      <td>5.2</td>\n",
       "      <td>5.8</td>\n",
       "      <td>1</td>\n",
       "    </tr>\n",
       "    <tr>\n",
       "      <th>2</th>\n",
       "      <td>1.9</td>\n",
       "      <td>2.9</td>\n",
       "      <td>1.5</td>\n",
       "      <td>0.6</td>\n",
       "      <td>0.6</td>\n",
       "      <td>1.6</td>\n",
       "      <td>1.8</td>\n",
       "      <td>66.3</td>\n",
       "      <td>223.4</td>\n",
       "      <td>245.4</td>\n",
       "      <td>...</td>\n",
       "      <td>14.1</td>\n",
       "      <td>11.4</td>\n",
       "      <td>5.6</td>\n",
       "      <td>2.6</td>\n",
       "      <td>4.0</td>\n",
       "      <td>5.2</td>\n",
       "      <td>4.3</td>\n",
       "      <td>2.1</td>\n",
       "      <td>0.4</td>\n",
       "      <td>1</td>\n",
       "    </tr>\n",
       "    <tr>\n",
       "      <th>3</th>\n",
       "      <td>1.5</td>\n",
       "      <td>3.0</td>\n",
       "      <td>3.3</td>\n",
       "      <td>0.5</td>\n",
       "      <td>0.8</td>\n",
       "      <td>4.5</td>\n",
       "      <td>1.0</td>\n",
       "      <td>4.7</td>\n",
       "      <td>5.5</td>\n",
       "      <td>26.6</td>\n",
       "      <td>...</td>\n",
       "      <td>22.3</td>\n",
       "      <td>20.7</td>\n",
       "      <td>17.1</td>\n",
       "      <td>14.0</td>\n",
       "      <td>5.1</td>\n",
       "      <td>2.4</td>\n",
       "      <td>4.3</td>\n",
       "      <td>2.0</td>\n",
       "      <td>2.8</td>\n",
       "      <td>1</td>\n",
       "    </tr>\n",
       "    <tr>\n",
       "      <th>4</th>\n",
       "      <td>1.3</td>\n",
       "      <td>3.2</td>\n",
       "      <td>5.8</td>\n",
       "      <td>2.1</td>\n",
       "      <td>0.0</td>\n",
       "      <td>1.3</td>\n",
       "      <td>2.2</td>\n",
       "      <td>3.4</td>\n",
       "      <td>2.9</td>\n",
       "      <td>16.7</td>\n",
       "      <td>...</td>\n",
       "      <td>5.3</td>\n",
       "      <td>4.3</td>\n",
       "      <td>12.5</td>\n",
       "      <td>0.5</td>\n",
       "      <td>1.7</td>\n",
       "      <td>4.9</td>\n",
       "      <td>4.1</td>\n",
       "      <td>3.1</td>\n",
       "      <td>4.8</td>\n",
       "      <td>1</td>\n",
       "    </tr>\n",
       "    <tr>\n",
       "      <th>5</th>\n",
       "      <td>1.8</td>\n",
       "      <td>3.2</td>\n",
       "      <td>0.8</td>\n",
       "      <td>0.0</td>\n",
       "      <td>1.8</td>\n",
       "      <td>2.6</td>\n",
       "      <td>9.1</td>\n",
       "      <td>98.2</td>\n",
       "      <td>207.5</td>\n",
       "      <td>163.8</td>\n",
       "      <td>...</td>\n",
       "      <td>65.3</td>\n",
       "      <td>22.1</td>\n",
       "      <td>0.5</td>\n",
       "      <td>0.8</td>\n",
       "      <td>1.3</td>\n",
       "      <td>1.5</td>\n",
       "      <td>2.8</td>\n",
       "      <td>3.8</td>\n",
       "      <td>1.6</td>\n",
       "      <td>1</td>\n",
       "    </tr>\n",
       "    <tr>\n",
       "      <th>6</th>\n",
       "      <td>1.1</td>\n",
       "      <td>2.0</td>\n",
       "      <td>1.8</td>\n",
       "      <td>1.9</td>\n",
       "      <td>4.0</td>\n",
       "      <td>2.6</td>\n",
       "      <td>4.5</td>\n",
       "      <td>57.5</td>\n",
       "      <td>144.9</td>\n",
       "      <td>134.2</td>\n",
       "      <td>...</td>\n",
       "      <td>140.0</td>\n",
       "      <td>94.5</td>\n",
       "      <td>54.9</td>\n",
       "      <td>29.8</td>\n",
       "      <td>12.3</td>\n",
       "      <td>9.2</td>\n",
       "      <td>7.2</td>\n",
       "      <td>7.0</td>\n",
       "      <td>4.0</td>\n",
       "      <td>1</td>\n",
       "    </tr>\n",
       "    <tr>\n",
       "      <th>7</th>\n",
       "      <td>1.5</td>\n",
       "      <td>1.1</td>\n",
       "      <td>2.7</td>\n",
       "      <td>1.7</td>\n",
       "      <td>2.8</td>\n",
       "      <td>5.7</td>\n",
       "      <td>7.8</td>\n",
       "      <td>44.7</td>\n",
       "      <td>69.3</td>\n",
       "      <td>49.4</td>\n",
       "      <td>...</td>\n",
       "      <td>31.3</td>\n",
       "      <td>5.2</td>\n",
       "      <td>0.0</td>\n",
       "      <td>0.2</td>\n",
       "      <td>2.1</td>\n",
       "      <td>1.4</td>\n",
       "      <td>2.8</td>\n",
       "      <td>1.9</td>\n",
       "      <td>1.3</td>\n",
       "      <td>1</td>\n",
       "    </tr>\n",
       "    <tr>\n",
       "      <th>8</th>\n",
       "      <td>0.0</td>\n",
       "      <td>1.5</td>\n",
       "      <td>4.7</td>\n",
       "      <td>1.8</td>\n",
       "      <td>2.3</td>\n",
       "      <td>0.0</td>\n",
       "      <td>0.9</td>\n",
       "      <td>25.6</td>\n",
       "      <td>133.0</td>\n",
       "      <td>177.5</td>\n",
       "      <td>...</td>\n",
       "      <td>40.1</td>\n",
       "      <td>37.8</td>\n",
       "      <td>21.4</td>\n",
       "      <td>13.5</td>\n",
       "      <td>8.3</td>\n",
       "      <td>3.6</td>\n",
       "      <td>0.0</td>\n",
       "      <td>2.5</td>\n",
       "      <td>5.0</td>\n",
       "      <td>1</td>\n",
       "    </tr>\n",
       "    <tr>\n",
       "      <th>9</th>\n",
       "      <td>4.7</td>\n",
       "      <td>0.2</td>\n",
       "      <td>0.0</td>\n",
       "      <td>2.5</td>\n",
       "      <td>6.1</td>\n",
       "      <td>3.8</td>\n",
       "      <td>1.3</td>\n",
       "      <td>5.4</td>\n",
       "      <td>49.4</td>\n",
       "      <td>81.1</td>\n",
       "      <td>...</td>\n",
       "      <td>127.2</td>\n",
       "      <td>128.7</td>\n",
       "      <td>102.4</td>\n",
       "      <td>63.5</td>\n",
       "      <td>38.5</td>\n",
       "      <td>21.7</td>\n",
       "      <td>11.8</td>\n",
       "      <td>5.3</td>\n",
       "      <td>2.6</td>\n",
       "      <td>1</td>\n",
       "    </tr>\n",
       "  </tbody>\n",
       "</table>\n",
       "<p>10 rows × 61 columns</p>\n",
       "</div>"
      ],
      "text/plain": [
       "    S00  S01  S02  S03  S04  S05  S06   S07    S08    S09  ...    S51    S52  \\\n",
       "0  14.8  0.0  1.4  0.0  2.3  3.9  5.7  63.1   98.0   93.1  ...   26.1   12.1   \n",
       "1   1.1  0.0  4.1  5.4  1.2  1.4  8.4  63.0  133.9  127.9  ...   56.6   32.8   \n",
       "2   1.9  2.9  1.5  0.6  0.6  1.6  1.8  66.3  223.4  245.4  ...   14.1   11.4   \n",
       "3   1.5  3.0  3.3  0.5  0.8  4.5  1.0   4.7    5.5   26.6  ...   22.3   20.7   \n",
       "4   1.3  3.2  5.8  2.1  0.0  1.3  2.2   3.4    2.9   16.7  ...    5.3    4.3   \n",
       "5   1.8  3.2  0.8  0.0  1.8  2.6  9.1  98.2  207.5  163.8  ...   65.3   22.1   \n",
       "6   1.1  2.0  1.8  1.9  4.0  2.6  4.5  57.5  144.9  134.2  ...  140.0   94.5   \n",
       "7   1.5  1.1  2.7  1.7  2.8  5.7  7.8  44.7   69.3   49.4  ...   31.3    5.2   \n",
       "8   0.0  1.5  4.7  1.8  2.3  0.0  0.9  25.6  133.0  177.5  ...   40.1   37.8   \n",
       "9   4.7  0.2  0.0  2.5  6.1  3.8  1.3   5.4   49.4   81.1  ...  127.2  128.7   \n",
       "\n",
       "     S53   S54   S55   S56   S57  S58  S59  Electron  \n",
       "0    3.3   2.0   2.7   1.5   2.6  2.1  0.5         1  \n",
       "1   10.6   4.5   1.3   5.0   2.4  5.2  5.8         1  \n",
       "2    5.6   2.6   4.0   5.2   4.3  2.1  0.4         1  \n",
       "3   17.1  14.0   5.1   2.4   4.3  2.0  2.8         1  \n",
       "4   12.5   0.5   1.7   4.9   4.1  3.1  4.8         1  \n",
       "5    0.5   0.8   1.3   1.5   2.8  3.8  1.6         1  \n",
       "6   54.9  29.8  12.3   9.2   7.2  7.0  4.0         1  \n",
       "7    0.0   0.2   2.1   1.4   2.8  1.9  1.3         1  \n",
       "8   21.4  13.5   8.3   3.6   0.0  2.5  5.0         1  \n",
       "9  102.4  63.5  38.5  21.7  11.8  5.3  2.6         1  \n",
       "\n",
       "[10 rows x 61 columns]"
      ]
     },
     "execution_count": 70,
     "metadata": {},
     "output_type": "execute_result"
    }
   ],
   "source": [
    "data.head(10)"
   ]
  },
  {
   "cell_type": "markdown",
   "metadata": {},
   "source": [
    "## Create a vector with sampling time values for the plots"
   ]
  },
  {
   "cell_type": "code",
   "execution_count": 71,
   "metadata": {},
   "outputs": [],
   "source": [
    "## series of sampling time values\n",
    "\n",
    "t = np.arange(0.5, 60., 1., dtype=float)\n",
    "#print(t)"
   ]
  },
  {
   "cell_type": "markdown",
   "metadata": {},
   "source": [
    "## Plot one signal, electron or pion: change the index [0] in the \"plot\" command"
   ]
  },
  {
   "cell_type": "code",
   "execution_count": 72,
   "metadata": {},
   "outputs": [],
   "source": [
    "## plot sampled signal for electrons and pions\n",
    "\n",
    "#data_plot = data.drop('Electron', axis=1)\n",
    "#data_plot_np = data_plot.to_numpy()\n",
    "#np.size(data_plot_np, 0)\n",
    "#plt.plot(t, data_plot_np[0], \"r--\")"
   ]
  },
  {
   "cell_type": "markdown",
   "metadata": {},
   "source": [
    "## Select electrons"
   ]
  },
  {
   "cell_type": "code",
   "execution_count": 73,
   "metadata": {},
   "outputs": [
    {
     "name": "stdout",
     "output_type": "stream",
     "text": [
      "<class 'pandas.core.frame.DataFrame'>\n",
      "(6744, 61)\n"
     ]
    },
    {
     "data": {
      "text/plain": [
       "6744"
      ]
     },
     "execution_count": 73,
     "metadata": {},
     "output_type": "execute_result"
    }
   ],
   "source": [
    "## plot sampled signal for electrons\n",
    "\n",
    "mask_ele = data['Electron'] == 1\n",
    "data_ele = data[mask_ele]\n",
    "print(type(data_ele))\n",
    "print(data_ele.shape)\n",
    "data_ele_plot = data_ele.drop('Electron', axis=1)\n",
    "data_ele_plot_np = data_ele_plot.to_numpy()\n",
    "np.size(data_ele_plot_np, 0)"
   ]
  },
  {
   "cell_type": "markdown",
   "metadata": {},
   "source": [
    "## Plot signal [index]"
   ]
  },
  {
   "cell_type": "code",
   "execution_count": 74,
   "metadata": {},
   "outputs": [
    {
     "data": {
      "text/plain": [
       "[<matplotlib.lines.Line2D at 0x7fcff2439b70>]"
      ]
     },
     "execution_count": 74,
     "metadata": {},
     "output_type": "execute_result"
    },
    {
     "data": {
      "image/png": "[encoded data removed]",
      "text/plain": [
       "<Figure size 432x288 with 1 Axes>"
      ]
     },
     "metadata": {
      "needs_background": "light"
     },
     "output_type": "display_data"
    }
   ],
   "source": [
    "plt.plot(t, data_ele_plot_np[200], \"r--\")"
   ]
  },
  {
   "cell_type": "markdown",
   "metadata": {},
   "source": [
    "## Calculate average signal and plot"
   ]
  },
  {
   "cell_type": "code",
   "execution_count": 11,
   "metadata": {},
   "outputs": [
    {
     "data": {
      "text/plain": [
       "[<matplotlib.lines.Line2D at 0x7fcff021b7f0>]"
      ]
     },
     "execution_count": 11,
     "metadata": {},
     "output_type": "execute_result"
    },
    {
     "data": {
      "image/png": "[encoded data removed]",
      "text/plain": [
       "<Figure size 432x288 with 1 Axes>"
      ]
     },
     "metadata": {
      "needs_background": "light"
     },
     "output_type": "display_data"
    }
   ],
   "source": [
    "## calculate average sampled signal\n",
    "\n",
    "i = 0\n",
    "signal_ele = [60]\n",
    "nsampl_ele = 10000\n",
    "while i < nsampl_ele:\n",
    "    signal_ele += data_ele_plot_np[i]\n",
    "    i = i + 1\n",
    "\n",
    "signal_ele /= nsampl_ele\n",
    "plt.plot(t, signal_ele)\n"
   ]
  },
  {
   "cell_type": "markdown",
   "metadata": {},
   "source": [
    "## Select pions"
   ]
  },
  {
   "cell_type": "code",
   "execution_count": 75,
   "metadata": {},
   "outputs": [
    {
     "name": "stdout",
     "output_type": "stream",
     "text": [
      "<class 'pandas.core.frame.DataFrame'>\n",
      "(6744, 61)\n"
     ]
    },
    {
     "data": {
      "text/plain": [
       "6744"
      ]
     },
     "execution_count": 75,
     "metadata": {},
     "output_type": "execute_result"
    }
   ],
   "source": [
    "## plot signal for pions\n",
    "\n",
    "mask_pio = data['Electron'] == 0\n",
    "data_pio = data[mask_pio]\n",
    "print(type(data_pio))\n",
    "print(data_pio.shape)\n",
    "data_pio_plot = data_pio.drop('Electron', axis=1)\n",
    "data_pio_plot_np = data_pio_plot.to_numpy()\n",
    "np.size(data_pio_plot_np, 0)"
   ]
  },
  {
   "cell_type": "markdown",
   "metadata": {},
   "source": [
    "## Plot signal [index]"
   ]
  },
  {
   "cell_type": "code",
   "execution_count": 76,
   "metadata": {},
   "outputs": [
    {
     "data": {
      "text/plain": [
       "[<matplotlib.lines.Line2D at 0x7fcff2411da0>]"
      ]
     },
     "execution_count": 76,
     "metadata": {},
     "output_type": "execute_result"
    },
    {
     "data": {
      "image/png": "[encoded data removed]",
      "text/plain": [
       "<Figure size 432x288 with 1 Axes>"
      ]
     },
     "metadata": {
      "needs_background": "light"
     },
     "output_type": "display_data"
    }
   ],
   "source": [
    "plt.plot(t, data_ele_plot_np[200], \"r--\")"
   ]
  },
  {
   "cell_type": "markdown",
   "metadata": {},
   "source": [
    "## Calculate average signal and plot"
   ]
  },
  {
   "cell_type": "code",
   "execution_count": 13,
   "metadata": {},
   "outputs": [
    {
     "data": {
      "text/plain": [
       "[<matplotlib.lines.Line2D at 0x7fcfefcf4550>]"
      ]
     },
     "execution_count": 13,
     "metadata": {},
     "output_type": "execute_result"
    },
    {
     "data": {
      "image/png": "[encoded data removed]",
      "text/plain": [
       "<Figure size 432x288 with 1 Axes>"
      ]
     },
     "metadata": {
      "needs_background": "light"
     },
     "output_type": "display_data"
    }
   ],
   "source": [
    "## calculate average sampled signal\n",
    "\n",
    "i = 0\n",
    "signal_pio = [60]\n",
    "nsampl_pio = 10000\n",
    "while i < nsampl_pio:\n",
    "    signal_pio += data_pio_plot_np[i]\n",
    "    i = i + 1\n",
    "\n",
    "signal_pio /= nsampl_pio\n",
    "plt.plot(t, signal_pio)"
   ]
  },
  {
   "cell_type": "markdown",
   "metadata": {},
   "source": [
    "## Prepare data for training, validation and testing"
   ]
  },
  {
   "cell_type": "code",
   "execution_count": 14,
   "metadata": {},
   "outputs": [],
   "source": [
    "from sklearn.model_selection import train_test_split"
   ]
  },
  {
   "cell_type": "code",
   "execution_count": 18,
   "metadata": {},
   "outputs": [
    {
     "name": "stdout",
     "output_type": "stream",
     "text": [
      "<class 'pandas.core.frame.DataFrame'>\n"
     ]
    }
   ],
   "source": [
    "data_X = data.loc[:,'S00':'S59']\n",
    "data_y = data['Electron']\n",
    "X_train, X_tmp, y_train, y_tmp = train_test_split(data_X, data_y, test_size=0.4, random_state=1)\n",
    "X_test, X_validation, y_test, y_validation = train_test_split(X_tmp, y_tmp, test_size=0.5, random_state=1)"
   ]
  },
  {
   "cell_type": "markdown",
   "metadata": {},
   "source": [
    "## k-Nearest neighbor classification "
   ]
  },
  {
   "cell_type": "code",
   "execution_count": 21,
   "metadata": {},
   "outputs": [],
   "source": [
    "from sklearn import neighbors"
   ]
  },
  {
   "cell_type": "code",
   "execution_count": 22,
   "metadata": {},
   "outputs": [],
   "source": [
    "n_neighbors = 1\n",
    "clf = neighbors.KNeighborsClassifier(n_neighbors, weights='uniform')"
   ]
  },
  {
   "cell_type": "code",
   "execution_count": 23,
   "metadata": {},
   "outputs": [
    {
     "data": {
      "text/plain": [
       "KNeighborsClassifier(algorithm='auto', leaf_size=30, metric='minkowski',\n",
       "                     metric_params=None, n_jobs=None, n_neighbors=1, p=2,\n",
       "                     weights='uniform')"
      ]
     },
     "execution_count": 23,
     "metadata": {},
     "output_type": "execute_result"
    }
   ],
   "source": [
    "clf.fit(X_train, y_train)"
   ]
  },
  {
   "cell_type": "markdown",
   "metadata": {},
   "source": [
    "## Estimate what this classifier gives on the validation data sample"
   ]
  },
  {
   "cell_type": "code",
   "execution_count": 24,
   "metadata": {},
   "outputs": [],
   "source": [
    "class_estimate = clf.predict(X_validation)"
   ]
  },
  {
   "cell_type": "markdown",
   "metadata": {},
   "source": [
    "## Calculate by hand how many times the estimation is correct on the validation sample"
   ]
  },
  {
   "cell_type": "code",
   "execution_count": 30,
   "metadata": {},
   "outputs": [
    {
     "name": "stdout",
     "output_type": "stream",
     "text": [
      "Accuracy =  0.7353256979241232\n"
     ]
    }
   ],
   "source": [
    "n_objs = y_validation.shape[0]\n",
    "correct_number = sum(class_estimate == y_validation)\n",
    "accuracy = float(correct_number/n_objs)\n",
    "print('Accuracy = ', accuracy)"
   ]
  },
  {
   "cell_type": "markdown",
   "metadata": {},
   "source": [
    "## Use a score function to verify the accuracy"
   ]
  },
  {
   "cell_type": "code",
   "execution_count": 31,
   "metadata": {},
   "outputs": [
    {
     "name": "stdout",
     "output_type": "stream",
     "text": [
      "R2_knn_validation =  0.7353256979241232\n"
     ]
    }
   ],
   "source": [
    "R2_knn_validation = clf.score(X_validation, y_validation)\n",
    "print(\"R2_knn_validation = \", R2_knn_validation)"
   ]
  },
  {
   "cell_type": "markdown",
   "metadata": {},
   "source": [
    "## Repeat the k-Nearest neighbor and compare with a decision tree classifier"
   ]
  },
  {
   "cell_type": "code",
   "execution_count": 32,
   "metadata": {},
   "outputs": [],
   "source": [
    "from sklearn.metrics import accuracy_score"
   ]
  },
  {
   "cell_type": "code",
   "execution_count": 33,
   "metadata": {},
   "outputs": [],
   "source": [
    "nn = 1\n",
    "weights = 'uniform'              \n",
    "\n",
    "classifier_kn = neighbors.KNeighborsClassifier(nn, weights=weights)"
   ]
  },
  {
   "cell_type": "code",
   "execution_count": 39,
   "metadata": {},
   "outputs": [
    {
     "name": "stdout",
     "output_type": "stream",
     "text": [
      "Accuracy give by kN:  0.7353256979241232\n"
     ]
    }
   ],
   "source": [
    "classifier_kn.fit(X_train, y_train)\n",
    "\n",
    "class_estimate_kn = classifier_kn.predict(X_validation)\n",
    "\n",
    "accuracy_kn = accuracy_score(y_validation, class_estimate_kn, normalize=True)\n",
    "\n",
    "print('Accuracy give by kN: ', accuracy_kn)"
   ]
  },
  {
   "cell_type": "code",
   "execution_count": 40,
   "metadata": {},
   "outputs": [
    {
     "name": "stdout",
     "output_type": "stream",
     "text": [
      "Accuracy calculated on test sample with kN :  0.7301360057265569\n"
     ]
    }
   ],
   "source": [
    "class_estimate_kn_test = classifier_kn.predict(X_test)\n",
    "\n",
    "accuracy_kn_test = accuracy_score(class_estimate_kn_test, y_test, normalize=True)\n",
    "\n",
    "print('Accuracy calculated on test sample with kN : ', accuracy_kn_test)"
   ]
  },
  {
   "cell_type": "markdown",
   "metadata": {},
   "source": [
    "## Classify with a decision tree"
   ]
  },
  {
   "cell_type": "code",
   "execution_count": 41,
   "metadata": {},
   "outputs": [],
   "source": [
    "from sklearn import tree\n",
    "classifier_dt = tree.DecisionTreeClassifier()"
   ]
  },
  {
   "cell_type": "markdown",
   "metadata": {},
   "source": [
    "## Train"
   ]
  },
  {
   "cell_type": "code",
   "execution_count": 42,
   "metadata": {},
   "outputs": [
    {
     "data": {
      "text/plain": [
       "DecisionTreeClassifier(class_weight=None, criterion='gini', max_depth=None,\n",
       "                       max_features=None, max_leaf_nodes=None,\n",
       "                       min_impurity_decrease=0.0, min_impurity_split=None,\n",
       "                       min_samples_leaf=1, min_samples_split=2,\n",
       "                       min_weight_fraction_leaf=0.0, presort=False,\n",
       "                       random_state=None, splitter='best')"
      ]
     },
     "execution_count": 42,
     "metadata": {},
     "output_type": "execute_result"
    }
   ],
   "source": [
    "classifier_dt.fit(X_train, y_train)"
   ]
  },
  {
   "cell_type": "markdown",
   "metadata": {},
   "source": [
    "## Validate"
   ]
  },
  {
   "cell_type": "code",
   "execution_count": 45,
   "metadata": {},
   "outputs": [
    {
     "name": "stdout",
     "output_type": "stream",
     "text": [
      "Accuracy give by DT:  0.7313886900501074\n"
     ]
    }
   ],
   "source": [
    "class_estimate_dt = classifier_dt.predict(X_validation)\n",
    "\n",
    "accuracy_dt = accuracy_score(y_validation, class_estimate_dt, normalize=True)\n",
    "\n",
    "print('Accuracy give by DT: ', accuracy_dt)"
   ]
  },
  {
   "cell_type": "markdown",
   "metadata": {},
   "source": [
    "## Test"
   ]
  },
  {
   "cell_type": "code",
   "execution_count": 46,
   "metadata": {},
   "outputs": [
    {
     "name": "stdout",
     "output_type": "stream",
     "text": [
      "Accuracy calculated on test sample with DT :  0.7401574803149606\n"
     ]
    }
   ],
   "source": [
    "class_estimate_dt_test = classifier_dt.predict(X_test)\n",
    "\n",
    "accuracy_dt_test = accuracy_score(class_estimate_dt_test, y_test, normalize=True)\n",
    "\n",
    "print('Accuracy calculated on test sample with DT : ', accuracy_dt_test)"
   ]
  },
  {
   "cell_type": "code",
   "execution_count": null,
   "metadata": {},
   "outputs": [],
   "source": []
  }
 ],
 "metadata": {
  "kernelspec": {
   "display_name": "Python 3",
   "language": "python",
   "name": "python3"
  },
  "language_info": {
   "codemirror_mode": {
    "name": "ipython",
    "version": 3
   },
   "file_extension": ".py",
   "mimetype": "text/x-python",
   "name": "python",
   "nbconvert_exporter": "python",
   "pygments_lexer": "ipython3",
   "version": "3.6.9"
  }
 },
 "nbformat": 4,
 "nbformat_minor": 2
}
