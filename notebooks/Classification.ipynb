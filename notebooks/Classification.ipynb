{
 "cells": [
  {
   "cell_type": "markdown",
   "metadata": {},
   "source": [
    "ML@ Cezeaux - by Emille Ishida\n",
    "\n",
    "### Machine Learning Tutorial\n",
    "\n",
    "# Section 1.b - Supervised learning: classification\n",
    "by [Emille Ishida](https://www.emilleishida.com/)\n",
    "\n",
    "### *Take home message 2: It is crucial to understand the algorithm you are using*\n",
    "\n",
    "**Goal:** 1. Get acquainted with a basic machine learning algorithm    \n",
    "&nbsp;&nbsp;&nbsp;&nbsp;&nbsp;&nbsp;&nbsp;&nbsp;&nbsp;&nbsp;2. Discuss hyper parameters  \n",
    "&nbsp;&nbsp;&nbsp;&nbsp;&nbsp;&nbsp;&nbsp;&nbsp;&nbsp;&nbsp;3. Write your classifier  \n",
    "\n",
    "**Task**: Star-Galaxy Classification  \n",
    "\n",
    "**Data**: Clean data resulting from [Notebook 1](EDA_SDSS_answers.ipynb)\n",
    "\n",
    "&nbsp;&nbsp;&nbsp;&nbsp;&nbsp;&nbsp;&nbsp;&nbsp;&nbsp;&nbsp;~9100 objects (lines - depends on how you extracted the outliers)  \n",
    "&nbsp;&nbsp;&nbsp;&nbsp;&nbsp;&nbsp;&nbsp;&nbsp;&nbsp;&nbsp;11 features (columns)  \n",
    "&nbsp;&nbsp;&nbsp;&nbsp;&nbsp;&nbsp;&nbsp;&nbsp;&nbsp;&nbsp;Features we are interested in:  \n",
    "&nbsp;&nbsp;&nbsp;&nbsp;&nbsp;&nbsp;&nbsp;&nbsp;&nbsp;&nbsp;&nbsp;&nbsp;&nbsp;&nbsp;&nbsp;&nbsp;&nbsp;&nbsp;\n",
    "$ug$: u-g SDSS color  \n",
    "&nbsp;&nbsp;&nbsp;&nbsp;&nbsp;&nbsp;&nbsp;&nbsp;&nbsp;&nbsp;&nbsp;&nbsp;&nbsp;&nbsp;&nbsp;&nbsp;&nbsp;&nbsp;\n",
    "$gr$: g-r SDSS color   \n",
    "&nbsp;&nbsp;&nbsp;&nbsp;&nbsp;&nbsp;&nbsp;&nbsp;&nbsp;&nbsp;&nbsp;&nbsp;&nbsp;&nbsp;&nbsp;&nbsp;&nbsp;&nbsp;\n",
    "$class$: source classification"
   ]
  },
  {
   "cell_type": "code",
   "execution_count": 179,
   "metadata": {},
   "outputs": [],
   "source": [
    "# import some basic libaries \n",
    "import matplotlib.pylab as plt\n",
    "import numpy as np\n",
    "import pandas as pd\n",
    "import seaborn as sns"
   ]
  },
  {
   "cell_type": "markdown",
   "metadata": {},
   "source": [
    "### Step 1: Pre-processing"
   ]
  },
  {
   "cell_type": "markdown",
   "metadata": {},
   "source": [
    "We start by loading the data and checking if our variables of interest are given.\n",
    " \n",
    "<div class=\"alert alert-info\"> \n",
    "PS1: as we already cleaned this data, we will not perform an extensive EDA here, but remember that you should always make similar tests to those shown in <a href='EDA_SDSS.ipynb'>Notebook 1</a> every single time... and again, just to be sure.\n",
    "</div>"
   ]
  },
  {
   "cell_type": "code",
   "execution_count": 187,
   "metadata": {},
   "outputs": [
    {
     "data": {
      "text/plain": [
       "Index(['objid', 'u', 'g', 'r', 'i', 'z', 'class', 'ug', 'gr', 'ri', 'iz'], dtype='object')"
      ]
     },
     "execution_count": 187,
     "metadata": {},
     "output_type": "execute_result"
    }
   ],
   "source": [
    "# load data\n",
    "data = pd.read_csv('../data/SDSS_star_galaxy_clean.csv')\n",
    "\n",
    "# check columns\n",
    "data.keys()"
   ]
  },
  {
   "cell_type": "code",
   "execution_count": 188,
   "metadata": {},
   "outputs": [
    {
     "data": {
      "text/plain": [
       "(9139, 11)"
      ]
     },
     "execution_count": 188,
     "metadata": {},
     "output_type": "execute_result"
    }
   ],
   "source": [
    "data.shape"
   ]
  },
  {
   "cell_type": "markdown",
   "metadata": {},
   "source": [
    "We see that the data we want is there, but there is a lot of other stuff as well.  \n",
    "Select only the columns that are interesting to you. "
   ]
  },
  {
   "cell_type": "code",
   "execution_count": 189,
   "metadata": {},
   "outputs": [
    {
     "data": {
      "text/html": [
       "<div>\n",
       "<style scoped>\n",
       "    .dataframe tbody tr th:only-of-type {\n",
       "        vertical-align: middle;\n",
       "    }\n",
       "\n",
       "    .dataframe tbody tr th {\n",
       "        vertical-align: top;\n",
       "    }\n",
       "\n",
       "    .dataframe thead th {\n",
       "        text-align: right;\n",
       "    }\n",
       "</style>\n",
       "<table border=\"1\" class=\"dataframe\">\n",
       "  <thead>\n",
       "    <tr style=\"text-align: right;\">\n",
       "      <th></th>\n",
       "      <th>ug</th>\n",
       "      <th>gr</th>\n",
       "      <th>class</th>\n",
       "    </tr>\n",
       "  </thead>\n",
       "  <tbody>\n",
       "    <tr>\n",
       "      <th>0</th>\n",
       "      <td>2.43166</td>\n",
       "      <td>1.09541</td>\n",
       "      <td>1</td>\n",
       "    </tr>\n",
       "    <tr>\n",
       "      <th>1</th>\n",
       "      <td>1.44831</td>\n",
       "      <td>0.53812</td>\n",
       "      <td>1</td>\n",
       "    </tr>\n",
       "    <tr>\n",
       "      <th>2</th>\n",
       "      <td>1.19129</td>\n",
       "      <td>0.71741</td>\n",
       "      <td>2</td>\n",
       "    </tr>\n",
       "    <tr>\n",
       "      <th>3</th>\n",
       "      <td>1.16264</td>\n",
       "      <td>0.44156</td>\n",
       "      <td>1</td>\n",
       "    </tr>\n",
       "    <tr>\n",
       "      <th>4</th>\n",
       "      <td>1.28683</td>\n",
       "      <td>-0.17527</td>\n",
       "      <td>1</td>\n",
       "    </tr>\n",
       "    <tr>\n",
       "      <th>5</th>\n",
       "      <td>0.96354</td>\n",
       "      <td>0.30328</td>\n",
       "      <td>1</td>\n",
       "    </tr>\n",
       "    <tr>\n",
       "      <th>6</th>\n",
       "      <td>1.49327</td>\n",
       "      <td>0.78458</td>\n",
       "      <td>2</td>\n",
       "    </tr>\n",
       "    <tr>\n",
       "      <th>7</th>\n",
       "      <td>1.13497</td>\n",
       "      <td>0.46474</td>\n",
       "      <td>1</td>\n",
       "    </tr>\n",
       "    <tr>\n",
       "      <th>8</th>\n",
       "      <td>0.93444</td>\n",
       "      <td>0.29631</td>\n",
       "      <td>1</td>\n",
       "    </tr>\n",
       "    <tr>\n",
       "      <th>9</th>\n",
       "      <td>0.95874</td>\n",
       "      <td>0.22013</td>\n",
       "      <td>2</td>\n",
       "    </tr>\n",
       "  </tbody>\n",
       "</table>\n",
       "</div>"
      ],
      "text/plain": [
       "        ug       gr  class\n",
       "0  2.43166  1.09541      1\n",
       "1  1.44831  0.53812      1\n",
       "2  1.19129  0.71741      2\n",
       "3  1.16264  0.44156      1\n",
       "4  1.28683 -0.17527      1\n",
       "5  0.96354  0.30328      1\n",
       "6  1.49327  0.78458      2\n",
       "7  1.13497  0.46474      1\n",
       "8  0.93444  0.29631      1\n",
       "9  0.95874  0.22013      2"
      ]
     },
     "execution_count": 189,
     "metadata": {},
     "output_type": "execute_result"
    }
   ],
   "source": [
    "# make a new data frame with the columns you need\n",
    "def select_columns(data_frame, column_names):\n",
    "  new_frame = data_frame.loc[:, column_names]\n",
    "  return new_frame\n",
    "\n",
    "selected_columns = ['ug', 'gr', 'class']\n",
    "data_use = select_columns(data, selected_columns)\n",
    "\n",
    "# confirm remaining columns\n",
    "data_use.keys()\n",
    "\n",
    "data_use_class = data_use.replace(['STAR', 'GALAXY'], [1, 2])\n",
    "\n",
    "data_use_class.head(10)"
   ]
  },
  {
   "cell_type": "code",
   "execution_count": 190,
   "metadata": {},
   "outputs": [],
   "source": [
    "# convert categorical features like STAR, GALAXY to integer codes\n",
    "# STAR = 0, GALAXY = 1\n",
    "\n",
    "# for testing only\n",
    "\n",
    "from sklearn.preprocessing import OneHotEncoder\n",
    "\n",
    "#enc = OneHotEncoder(sparse=False)\n",
    "#data_use_enc = enc.fit_transform(data_use)\n",
    "#print(type(data_use))\n",
    "#print(type(data_use_enc.toarray()))\n",
    "#print(data_use_enc[:10])\n",
    "\n",
    "from sklearn.preprocessing import LabelEncoder\n",
    "\n",
    "#enc = LabelEncoder()\n",
    "#data_use_class = data_use[\"class\"]\n",
    "#data_use_class_enc = enc.fit_transform(data_use_class)\n",
    "#print(enc.classes_)\n",
    "#data_use_class_enc"
   ]
  },
  {
   "cell_type": "code",
   "execution_count": 191,
   "metadata": {},
   "outputs": [
    {
     "data": {
      "text/plain": [
       "array([[<matplotlib.axes._subplots.AxesSubplot object at 0x7fd7a6622ac8>,\n",
       "        <matplotlib.axes._subplots.AxesSubplot object at 0x7fd7a65d2978>],\n",
       "       [<matplotlib.axes._subplots.AxesSubplot object at 0x7fd7a6583f28>,\n",
       "        <matplotlib.axes._subplots.AxesSubplot object at 0x7fd7a653d518>]],\n",
       "      dtype=object)"
      ]
     },
     "execution_count": 191,
     "metadata": {},
     "output_type": "execute_result"
    },
    {
     "data": {
      "image/png": "[encoded data removed]",
      "text/plain": [
       "<Figure size 402.375x360 with 6 Axes>"
      ]
     },
     "metadata": {
      "needs_background": "light"
     },
     "output_type": "display_data"
    },
    {
     "data": {
      "image/png": "[encoded data removed]",
      "text/plain": [
       "<Figure size 720x360 with 4 Axes>"
      ]
     },
     "metadata": {
      "needs_background": "light"
     },
     "output_type": "display_data"
    }
   ],
   "source": [
    "# take a look at the data you just separated\n",
    "sns.pairplot(data_use_class, hue='class', vars=['ug', 'gr'])\n",
    "data_use_class.hist(bins=50, figsize=(10,5))"
   ]
  },
  {
   "cell_type": "markdown",
   "metadata": {},
   "source": [
    "### Step 2: Separate your data samples\n",
    "\n",
    "All supervised learning tasks are made of (at least) 4 phases:  \n",
    "&nbsp;&nbsp;&nbsp;&nbsp;&nbsp;&nbsp;&nbsp;&nbsp;&nbsp;&nbsp;1) **train**: training samples (requires features and labels)  \n",
    "&nbsp;&nbsp;&nbsp;&nbsp;&nbsp;&nbsp;&nbsp;&nbsp;&nbsp;&nbsp;2) **optimize**: validation sample (requires features and labels)  \n",
    "&nbsp;&nbsp;&nbsp;&nbsp;&nbsp;&nbsp;&nbsp;&nbsp;&nbsp;&nbsp;&nbsp;&nbsp;&nbsp;&nbsp;&nbsp;&nbsp;&nbsp;&nbsp;&nbsp;&nbsp;**Repeat 1-2 until you are happy with the results**  \n",
    "&nbsp;&nbsp;&nbsp;&nbsp;&nbsp;&nbsp;&nbsp;&nbsp;&nbsp;&nbsp;3) **evaluate results**: test sample (requires features and labels)  \n",
    "&nbsp;&nbsp;&nbsp;&nbsp;&nbsp;&nbsp;&nbsp;&nbsp;&nbsp;&nbsp;4) **predict**: target sample (there are only you features, you should believe your code at this point)  \n",
    "      \n",
    "        \n",
    "        \n",
    "This means that your labelled sample needs to be divided in at least 3 samples: training, validation and test.  \n",
    "So, in order to continue we must construct these samples.\n"
   ]
  },
  {
   "cell_type": "code",
   "execution_count": 192,
   "metadata": {},
   "outputs": [
    {
     "name": "stdout",
     "output_type": "stream",
     "text": [
      "training sample:     (5483, 2) (5483,)\n",
      "validation sample:   (1828, 2) (1828,)\n",
      "test sample:         (1828, 2) (1828,)\n",
      "<class 'pandas.core.frame.DataFrame'>\n",
      "<class 'pandas.core.series.Series'>\n"
     ]
    },
    {
     "data": {
      "text/plain": [
       "Index(['ug', 'gr'], dtype='object')"
      ]
     },
     "execution_count": 192,
     "metadata": {},
     "output_type": "execute_result"
    }
   ],
   "source": [
    "from sklearn.model_selection import train_test_split\n",
    "\n",
    "# separate 60% for training and 20% for validation and 20% test\n",
    "# WARNING: there is probably a smarter way to do this\n",
    "X_train, X, y_train, y = train_test_split(data_use_class[['ug', 'gr']], data_use_class['class'], test_size=0.4, random_state=1)\n",
    "X_test, X_validation, y_test, y_validation = train_test_split(X, y, test_size=0.5, random_state=1)\n",
    "\n",
    "# check your samples (size, features, etc.)\n",
    "print('training sample:    ', X_train.shape, y_train.shape) \n",
    "print('validation sample:  ', X_validation.shape, y_validation.shape)\n",
    "print('test sample:        ', X_test.shape, y_test.shape)\n",
    "\n",
    "print(type(X_train))\n",
    "print(type(y_train))\n",
    "#X_train.head()\n",
    "#X_train.size\n",
    "#X.head()\n",
    "#X.size\n",
    "#y.head()\n",
    "X_train.keys()"
   ]
  },
  {
   "cell_type": "markdown",
   "metadata": {},
   "source": [
    "### Step 3: Build a Nearest Neighbor classifier\n",
    "\n",
    "As a start, we will construct a k-nearest neighbor algorithm (kNN) with k = 1.  \n",
    "This means that the class of a test point will be given by the class of its nearest neighbor.  \n",
    "We can describe this strategy as:  \n",
    "\n",
    "&nbsp;&nbsp;&nbsp;&nbsp;&nbsp;&nbsp;&nbsp;&nbsp;&nbsp;&nbsp; For all objects in the unlabelled sample:  \n",
    "&nbsp;&nbsp;&nbsp;&nbsp;&nbsp;&nbsp;&nbsp;&nbsp;&nbsp;&nbsp;&nbsp;&nbsp;&nbsp;&nbsp;&nbsp;1) Calculate the distance to all points in the training sample  \n",
    "&nbsp;&nbsp;&nbsp;&nbsp;&nbsp;&nbsp;&nbsp;&nbsp;&nbsp;&nbsp;&nbsp;&nbsp;&nbsp;&nbsp;&nbsp;2) Identify its closest neighbor  \n",
    "&nbsp;&nbsp;&nbsp;&nbsp;&nbsp;&nbsp;&nbsp;&nbsp;&nbsp;&nbsp;&nbsp;&nbsp;&nbsp;&nbsp;&nbsp;3) Assign the class of its nearest neighbor  "
   ]
  },
  {
   "cell_type": "code",
   "execution_count": 193,
   "metadata": {},
   "outputs": [],
   "source": [
    "# Build a 1-nearest neighbor classifier\n",
    "\n",
    "from sklearn import neighbors\n",
    "from matplotlib.colors import ListedColormap\n",
    "\n",
    "n_neighbors = 1\n",
    "clf = neighbors.KNeighborsClassifier(n_neighbors, weights='uniform')\n",
    "\n",
    "cmap_light = ListedColormap(['#FFAAAA', '#AAFFAA', '#AAAAFF'])\n",
    "cmap_bold = ListedColormap(['#FF0000', '#00FF00', '#0000FF'])\n",
    "\n",
    "def my_NearestNeighbor(train_features, train_labels, unlabelled_features):\n",
    "    \"\"\"\n",
    "    Classify an unlabelled using a k=1 nearest neighbor algorithm.\n",
    "    \n",
    "    input: train_features - array, dim=(number of objects, number of features)\n",
    "           train_labels - array, dim=(number of objects, 1)\n",
    "           unlabelled_features - array, dim=(number of objects, number of features)\n",
    "           \n",
    "    output: estimated classes for all lines in test_features\n",
    "            array, dim(number of objects, 1)       \n",
    "    \"\"\"\n",
    "    \n",
    "    clf.fit(train_features, train_labels)\n",
    "    \n",
    "    z = clf.predict(unlabelled_features)\n",
    "    \n",
    "    # plot the decision boundary\n",
    "    \n",
    "    # step size in the mesh\n",
    "    h = 0.02\n",
    "    \n",
    "    # tf and tl are ndarray\n",
    "    tf = train_features.get_values()\n",
    "    tl = train_labels.get_values()\n",
    "    \n",
    "    print(\"tf type = \", type(tf))\n",
    "    print(\"tf shape = \", tf.shape)\n",
    "    \n",
    "    print(\"tl type = \", type(tl))\n",
    "    print(\"tl shape = \", tl.shape)\n",
    "    \n",
    "    x_min, x_max = tf[:, 0].min() - 1, tf[:, 0].max() + 1\n",
    "    y_min, y_max = tf[:, 1].min() - 1, tf[:, 1].max() + 1\n",
    "    \n",
    "    xx, yy = np.meshgrid(np.arange(x_min, x_max, h), np.arange(y_min, y_max, h))\n",
    "    \n",
    "    zz = clf.predict(np.c_[xx.ravel(), yy.ravel()])\n",
    "    \n",
    "    # put the result into a color plot\n",
    "    zz = zz.reshape(xx.shape)\n",
    "    \n",
    "    print(\"xx shape = \", xx.shape)\n",
    "    print(\"yy shape = \", yy.shape)\n",
    "    print(\"zz type = \", type(zz))\n",
    "    print(\"zz shape = \", zz.shape)\n",
    "    \n",
    "    plt.figure()\n",
    "    plt.pcolormesh(xx, yy, zz, cmap=cmap_light)\n",
    "    \n",
    "    # plot also the training points\n",
    "    \n",
    "    plt.scatter(tf[:, 0], tf[:,1], c=tl, cmap=cmap_bold, edgecolor='k', s=20)\n",
    "    plt.xlim(xx.min(), xx.max())\n",
    "    plt.ylim(yy.min(), yy.max())\n",
    "    \n",
    "    # plot the validation points\n",
    "    \n",
    "    plt.figure()\n",
    "    plt.pcolormesh(xx, yy, zz, cmap=cmap_light)\n",
    "    \n",
    "    print(\"z type = \", type(z))\n",
    "    \n",
    "    uf = unlabelled_features.get_values()\n",
    "    \n",
    "    plt.scatter(uf[:, 0], uf[:, 1], c=z, cmap=cmap_bold, edgecolor='k', s=20)\n",
    "    plt.xlim(xx.min(), xx.max())\n",
    "    plt.ylim(yy.min(), yy.max())\n",
    "    \n",
    "    plt.show()\n",
    "    \n",
    "    # calculate distances\n",
    "   \n",
    "    # assign for each element in the test sample the class of its nearest neighbor\n",
    "\n",
    "    return z\n"
   ]
  },
  {
   "cell_type": "markdown",
   "metadata": {},
   "source": [
    "Estimate the classes of all objects in the test sample"
   ]
  },
  {
   "cell_type": "code",
   "execution_count": 194,
   "metadata": {},
   "outputs": [
    {
     "name": "stdout",
     "output_type": "stream",
     "text": [
      "tf type =  <class 'numpy.ndarray'>\n",
      "tf shape =  (5483, 2)\n",
      "tl type =  <class 'numpy.ndarray'>\n",
      "tl shape =  (5483,)\n",
      "xx shape =  (207, 271)\n",
      "yy shape =  (207, 271)\n",
      "zz type =  <class 'numpy.ndarray'>\n",
      "zz shape =  (207, 271)\n",
      "z type =  <class 'numpy.ndarray'>\n"
     ]
    },
    {
     "data": {
      "image/png": "[encoded data removed]",
      "text/plain": [
       "<Figure size 432x288 with 1 Axes>"
      ]
     },
     "metadata": {
      "needs_background": "light"
     },
     "output_type": "display_data"
    },
    {
     "data": {
      "image/png": "[encoded data removed]",
      "text/plain": [
       "<Figure size 432x288 with 1 Axes>"
      ]
     },
     "metadata": {
      "needs_background": "light"
     },
     "output_type": "display_data"
    },
    {
     "data": {
      "text/plain": [
       "array([1, 1, 2, 2, 1, 1, 2, 2, 2, 2])"
      ]
     },
     "execution_count": 194,
     "metadata": {},
     "output_type": "execute_result"
    }
   ],
   "source": [
    "class_estimate = my_NearestNeighbor(X_train, y_train, X_validation)\n",
    "\n",
    "# quick look in the first 10 estimated classes\n",
    "class_estimate[:10]\n",
    "\n",
    "#y_validation.head(10)"
   ]
  },
  {
   "cell_type": "markdown",
   "metadata": {},
   "source": [
    "### Step 4:  Evaluate your results"
   ]
  },
  {
   "cell_type": "markdown",
   "metadata": {},
   "source": [
    "Now that you have a classifier and already applied it, let's quantify the results.  \n",
    "Create a metric function that calculates the fraction of correct classifications. "
   ]
  },
  {
   "cell_type": "code",
   "execution_count": null,
   "metadata": {},
   "outputs": [],
   "source": [
    "def metric(estimated_classes, true_classes):\n",
    "    \"\"\"\n",
    "    Calculate the fraction of correct classification results. \n",
    "    \n",
    "    input: estimated_classes, array - dim=(number of objects,)\n",
    "           true_classes, array - dim=(number of objects, )\n",
    "           \n",
    "    output: fraction of correct classifications\n",
    "    \"\"\"\n",
    "    \n",
    "    # get the number of objects in the sample\n",
    "\n",
    "    \n",
    "    # get the number of correct classifications\n",
    "\n",
    "    \n",
    "    return"
   ]
  },
  {
   "cell_type": "code",
   "execution_count": null,
   "metadata": {},
   "outputs": [],
   "source": [
    "# Calculate metrics\n",
    "accuracy = metric(class_estimate, y_validation)\n",
    "\n",
    "print('accuracy: ', accuracy)"
   ]
  },
  {
   "cell_type": "markdown",
   "metadata": {},
   "source": [
    "### Step 5: Optimize the classifier\n",
    "\n",
    "The procedure used above aimed to illustrate how you can construct your own classifier, but it is not very practical. Whenever possible, we should make use of available libraries.  \n",
    "\n",
    "Let's reproduce what we did below using [scikit-learn](https://scikit-learn.org/stable/)."
   ]
  },
  {
   "cell_type": "code",
   "execution_count": 204,
   "metadata": {},
   "outputs": [
    {
     "name": "stdout",
     "output_type": "stream",
     "text": [
      "accuracy give by sklearn:  0.8402625820568927\n"
     ]
    }
   ],
   "source": [
    "from sklearn import neighbors \n",
    "from sklearn.metrics import accuracy_score\n",
    "\n",
    "# determine number of neighbors\n",
    "nn = 10\n",
    "weights = 'distance'              # this can be 'uniform' or 'distance'\n",
    "\n",
    "# create an instance of the classifier\n",
    "classifier = neighbors.KNeighborsClassifier(nn, weights=weights)\n",
    "\n",
    "# train (or fit) the classifier\n",
    "classifier.fit(X_train, y_train)\n",
    "\n",
    "# predict the classes of the test sample\n",
    "class_estimate_sklearn = classifier.predict(X_validation)\n",
    "\n",
    "# calculate metrics\n",
    "#accuracy_sklearn = accuracy_score(class_estimate, y_validation, normalize=True)\n",
    "accuracy_sklearn = accuracy_score(y_validation, class_estimate_sklearn, normalize=True)\n",
    "\n",
    "print('accuracy give by sklearn: ', accuracy_sklearn)"
   ]
  },
  {
   "cell_type": "markdown",
   "metadata": {},
   "source": [
    "Using scikit-learn allows us to easily manipulate the parameters of our algorithm.  \n",
    "Before we can move forward, we need to optimize these results to the best of our abilities.  \n",
    "Ask yourself: **Can the results above be improved ?**  \n",
    "\n",
    "*Try changing the number of neighbors and weights and see how the results change*"
   ]
  },
  {
   "cell_type": "code",
   "execution_count": null,
   "metadata": {},
   "outputs": [],
   "source": []
  },
  {
   "cell_type": "markdown",
   "metadata": {},
   "source": [
    "*Only go to the next step once you are satisfied with the results!!!*"
   ]
  },
  {
   "cell_type": "markdown",
   "metadata": {},
   "source": [
    "### Step 6: Calculate final results\n",
    "\n",
    "In order to ensure some generality to the results of the trained classifier, you must always report its performance in an independent data set, which was not used for training. The aim of the `test` sample is to mimic the results which you would find in the target sample."
   ]
  },
  {
   "cell_type": "code",
   "execution_count": 206,
   "metadata": {},
   "outputs": [
    {
     "name": "stdout",
     "output_type": "stream",
     "text": [
      "accuracy calculated on test sample :  0.838074398249453\n"
     ]
    }
   ],
   "source": [
    "# predict the classes of the test sample\n",
    "class_estimate_test = classifier.predict(X_test)\n",
    "\n",
    "# calculate metrics\n",
    "accuracy_test = accuracy_score(class_estimate_test, y_test, normalize=True)\n",
    "\n",
    "print('accuracy calculated on test sample : ', accuracy_test)"
   ]
  },
  {
   "cell_type": "markdown",
   "metadata": {},
   "source": [
    "And this is the accuracy of your optimized classifier.. and the numbers you should report when quoting any output from it!\n",
    "\n",
    "However, this number is not the reason your classifier was built!  \n",
    "Now that you have a working classifier your desired output is a list of classes for each object in a completely new sample for which no labels exist.  \n",
    "\n",
    "So let's read still another data set for which no labels are known."
   ]
  },
  {
   "cell_type": "code",
   "execution_count": null,
   "metadata": {},
   "outputs": [],
   "source": [
    "# load data\n",
    "data_target = pd.read_csv('../data/SDSS_star_galaxy_target.csv')\n",
    "\n",
    "# check features\n",
    "data_target.keys()"
   ]
  },
  {
   "cell_type": "markdown",
   "metadata": {},
   "source": [
    "**Notice that for saving time, this data set has already been cleaned. In a realistic situation, all the pre-processing performed in the labelled data which does not involve the labels themselves should also be applied to the target sample!**\n",
    "\n",
    "Now, let's use our classifier:"
   ]
  },
  {
   "cell_type": "code",
   "execution_count": null,
   "metadata": {},
   "outputs": [],
   "source": [
    "# Use the classifier you optimized above to estimate the classes for the target sample\n",
    "class_estimate_target = \n",
    "\n",
    "# quick look into the first classes\n"
   ]
  },
  {
   "cell_type": "markdown",
   "metadata": {},
   "source": [
    "#### You can now say that you have a new catalog of stars and galaxies, given by:"
   ]
  },
  {
   "cell_type": "code",
   "execution_count": null,
   "metadata": {},
   "outputs": [],
   "source": [
    "class_estimate_target"
   ]
  },
  {
   "cell_type": "markdown",
   "metadata": {},
   "source": [
    "#### whose classes can be trusted to the level of:"
   ]
  },
  {
   "cell_type": "code",
   "execution_count": null,
   "metadata": {},
   "outputs": [],
   "source": [
    "print(round(100*accuracy_test), '%')"
   ]
  },
  {
   "cell_type": "markdown",
   "metadata": {},
   "source": [
    "### You can know use this catalog to do your science!"
   ]
  },
  {
   "cell_type": "markdown",
   "metadata": {},
   "source": [
    "<div class=\"alert alert-info\">\n",
    "PS2: In this notebook used only 2 features due to time constraints, but feel free to try it with all collumns. Try accessing, for example, how your results change when you add more information. \n",
    "</div>"
   ]
  },
  {
   "cell_type": "markdown",
   "metadata": {},
   "source": [
    "------------------------------------------------------------------------------------------------------------------\n",
    "Summary:\n",
    "\n",
    "## Machine Learning Model    \n",
    "\n",
    "**Task**:  Identify stars and galaxies based on their photometric measurements.  \n",
    "\n",
    "       input: 2 different colours in SDSS broad-band filters: u-g and g-r\n",
    "       output: estimated classes\n",
    "       \n",
    "**Task Category**:   Classification\n",
    "\n",
    "**Data**: Extract from SDSS-DR14 as available through [Kaggle](https://www.kaggle.com/lucidlenn/sloan-digital-sky-survey#Skyserver_SQL2_27_2018%206_51_39%20PM.csv)  \n",
    "        \n",
    "        2 Features, x \n",
    "              u-g       u - g colour in SDSS system\n",
    "              g-r       g - r colour in SDSS system\n",
    "    \n",
    "        1 response variable (label), y    \n",
    "            class\n",
    "            \n",
    "**Machine Learning category**:  \n",
    "\n",
    "        Supervised Learning\n",
    "\n",
    "**Set of possible samples**:  \n",
    "\n",
    "        ~9100 objects\n",
    "        \n",
    "**Set of possible labels**:\n",
    "\n",
    "        2 classes: STAR or GALAXY\n",
    "        \n",
    "**Learner**:\n",
    "    \n",
    "        1 - Nearest neighbor    \n",
    "        \n",
    "**Loss function**:\n",
    "\n",
    "        1 - Distance-based"
   ]
  },
  {
   "cell_type": "code",
   "execution_count": null,
   "metadata": {},
   "outputs": [],
   "source": []
  }
 ],
 "metadata": {
  "celltoolbar": "Raw Cell Format",
  "kernelspec": {
   "display_name": "Python 3",
   "language": "python",
   "name": "python3"
  },
  "language_info": {
   "codemirror_mode": {
    "name": "ipython",
    "version": 3
   },
   "file_extension": ".py",
   "mimetype": "text/x-python",
   "name": "python",
   "nbconvert_exporter": "python",
   "pygments_lexer": "ipython3",
   "version": "3.6.8"
  }
 },
 "nbformat": 4,
 "nbformat_minor": 2
}
