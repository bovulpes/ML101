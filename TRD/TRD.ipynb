{
 "cells": [
  {
   "cell_type": "markdown",
   "metadata": {},
   "source": [
    "# ALICE Transition Radiation Detector (TRD): PS beam data with prototype chambers"
   ]
  },
  {
   "cell_type": "code",
   "execution_count": 2,
   "metadata": {},
   "outputs": [],
   "source": [
    "import matplotlib.pylab as plt\n",
    "import numpy as np\n",
    "import pandas as pd\n",
    "import seaborn as sns"
   ]
  },
  {
   "cell_type": "markdown",
   "metadata": {},
   "source": [
    "## 1) Import data files for the four chambers in the setup: Ch0, Ch1, Ch2, Ch3"
   ]
  },
  {
   "cell_type": "code",
   "execution_count": 3,
   "metadata": {},
   "outputs": [],
   "source": [
    "data = pd.read_csv('../dat/JN540s1tc0Cha0.csv')\n",
    "#data = pd.read_csv('../dat/JN540s1tc1Cha0.csv')\n",
    "#data = pd.read_csv('../dat/JN540s2tc1Cha0.csv')"
   ]
  },
  {
   "cell_type": "code",
   "execution_count": 4,
   "metadata": {},
   "outputs": [
    {
     "data": {
      "text/plain": [
       "Index(['S00', 'S01', 'S02', 'S03', 'S04', 'S05', 'S06', 'S07', 'S08', 'S09',\n",
       "       'S10', 'S11', 'S12', 'S13', 'S14', 'S15', 'S16', 'S17', 'S18', 'S19',\n",
       "       'S20', 'S21', 'S22', 'S23', 'S24', 'S25', 'S26', 'S27', 'S28', 'S29',\n",
       "       'S30', 'S31', 'S32', 'S33', 'S34', 'S35', 'S36', 'S37', 'S38', 'S39',\n",
       "       'S40', 'S41', 'S42', 'S43', 'S44', 'S45', 'S46', 'S47', 'S48', 'S49',\n",
       "       'S50', 'S51', 'S52', 'S53', 'S54', 'S55', 'S56', 'S57', 'S58', 'S59',\n",
       "       'Electron'],\n",
       "      dtype='object')"
      ]
     },
     "execution_count": 4,
     "metadata": {},
     "output_type": "execute_result"
    }
   ],
   "source": [
    "data.keys()"
   ]
  },
  {
   "cell_type": "code",
   "execution_count": 5,
   "metadata": {},
   "outputs": [
    {
     "data": {
      "text/plain": [
       "(27940, 61)"
      ]
     },
     "execution_count": 5,
     "metadata": {},
     "output_type": "execute_result"
    }
   ],
   "source": [
    "data.shape"
   ]
  },
  {
   "cell_type": "code",
   "execution_count": 6,
   "metadata": {},
   "outputs": [
    {
     "data": {
      "text/html": [
       "<div>\n",
       "<style scoped>\n",
       "    .dataframe tbody tr th:only-of-type {\n",
       "        vertical-align: middle;\n",
       "    }\n",
       "\n",
       "    .dataframe tbody tr th {\n",
       "        vertical-align: top;\n",
       "    }\n",
       "\n",
       "    .dataframe thead th {\n",
       "        text-align: right;\n",
       "    }\n",
       "</style>\n",
       "<table border=\"1\" class=\"dataframe\">\n",
       "  <thead>\n",
       "    <tr style=\"text-align: right;\">\n",
       "      <th></th>\n",
       "      <th>S00</th>\n",
       "      <th>S01</th>\n",
       "      <th>S02</th>\n",
       "      <th>S03</th>\n",
       "      <th>S04</th>\n",
       "      <th>S05</th>\n",
       "      <th>S06</th>\n",
       "      <th>S07</th>\n",
       "      <th>S08</th>\n",
       "      <th>S09</th>\n",
       "      <th>...</th>\n",
       "      <th>S51</th>\n",
       "      <th>S52</th>\n",
       "      <th>S53</th>\n",
       "      <th>S54</th>\n",
       "      <th>S55</th>\n",
       "      <th>S56</th>\n",
       "      <th>S57</th>\n",
       "      <th>S58</th>\n",
       "      <th>S59</th>\n",
       "      <th>Electron</th>\n",
       "    </tr>\n",
       "  </thead>\n",
       "  <tbody>\n",
       "    <tr>\n",
       "      <th>0</th>\n",
       "      <td>14.1</td>\n",
       "      <td>0.0</td>\n",
       "      <td>3.6</td>\n",
       "      <td>0.0</td>\n",
       "      <td>3.2</td>\n",
       "      <td>0.2</td>\n",
       "      <td>6.1</td>\n",
       "      <td>60.6</td>\n",
       "      <td>100.3</td>\n",
       "      <td>114.3</td>\n",
       "      <td>...</td>\n",
       "      <td>51.8</td>\n",
       "      <td>41.3</td>\n",
       "      <td>30.6</td>\n",
       "      <td>26.3</td>\n",
       "      <td>23.2</td>\n",
       "      <td>19.2</td>\n",
       "      <td>17.1</td>\n",
       "      <td>15.1</td>\n",
       "      <td>11.9</td>\n",
       "      <td>1</td>\n",
       "    </tr>\n",
       "    <tr>\n",
       "      <th>1</th>\n",
       "      <td>0.0</td>\n",
       "      <td>0.5</td>\n",
       "      <td>2.2</td>\n",
       "      <td>1.6</td>\n",
       "      <td>2.9</td>\n",
       "      <td>0.0</td>\n",
       "      <td>1.6</td>\n",
       "      <td>14.9</td>\n",
       "      <td>39.7</td>\n",
       "      <td>44.5</td>\n",
       "      <td>...</td>\n",
       "      <td>81.8</td>\n",
       "      <td>73.3</td>\n",
       "      <td>67.1</td>\n",
       "      <td>60.1</td>\n",
       "      <td>50.2</td>\n",
       "      <td>41.1</td>\n",
       "      <td>37.2</td>\n",
       "      <td>33.0</td>\n",
       "      <td>33.0</td>\n",
       "      <td>1</td>\n",
       "    </tr>\n",
       "    <tr>\n",
       "      <th>2</th>\n",
       "      <td>1.0</td>\n",
       "      <td>1.9</td>\n",
       "      <td>0.2</td>\n",
       "      <td>1.4</td>\n",
       "      <td>2.6</td>\n",
       "      <td>1.7</td>\n",
       "      <td>74.9</td>\n",
       "      <td>344.9</td>\n",
       "      <td>440.8</td>\n",
       "      <td>354.9</td>\n",
       "      <td>...</td>\n",
       "      <td>85.0</td>\n",
       "      <td>74.5</td>\n",
       "      <td>62.1</td>\n",
       "      <td>57.1</td>\n",
       "      <td>57.4</td>\n",
       "      <td>46.8</td>\n",
       "      <td>47.7</td>\n",
       "      <td>43.1</td>\n",
       "      <td>43.8</td>\n",
       "      <td>1</td>\n",
       "    </tr>\n",
       "    <tr>\n",
       "      <th>3</th>\n",
       "      <td>1.6</td>\n",
       "      <td>2.1</td>\n",
       "      <td>1.2</td>\n",
       "      <td>0.7</td>\n",
       "      <td>1.2</td>\n",
       "      <td>1.7</td>\n",
       "      <td>1.2</td>\n",
       "      <td>68.4</td>\n",
       "      <td>233.1</td>\n",
       "      <td>277.7</td>\n",
       "      <td>...</td>\n",
       "      <td>52.3</td>\n",
       "      <td>45.3</td>\n",
       "      <td>35.2</td>\n",
       "      <td>30.6</td>\n",
       "      <td>28.3</td>\n",
       "      <td>28.3</td>\n",
       "      <td>25.6</td>\n",
       "      <td>19.1</td>\n",
       "      <td>19.0</td>\n",
       "      <td>1</td>\n",
       "    </tr>\n",
       "    <tr>\n",
       "      <th>4</th>\n",
       "      <td>1.4</td>\n",
       "      <td>2.7</td>\n",
       "      <td>2.7</td>\n",
       "      <td>0.7</td>\n",
       "      <td>0.5</td>\n",
       "      <td>4.2</td>\n",
       "      <td>0.2</td>\n",
       "      <td>3.8</td>\n",
       "      <td>4.2</td>\n",
       "      <td>26.5</td>\n",
       "      <td>...</td>\n",
       "      <td>93.6</td>\n",
       "      <td>87.3</td>\n",
       "      <td>79.8</td>\n",
       "      <td>73.9</td>\n",
       "      <td>61.6</td>\n",
       "      <td>55.1</td>\n",
       "      <td>50.0</td>\n",
       "      <td>41.0</td>\n",
       "      <td>42.1</td>\n",
       "      <td>1</td>\n",
       "    </tr>\n",
       "    <tr>\n",
       "      <th>5</th>\n",
       "      <td>1.1</td>\n",
       "      <td>2.9</td>\n",
       "      <td>2.7</td>\n",
       "      <td>1.9</td>\n",
       "      <td>0.0</td>\n",
       "      <td>1.1</td>\n",
       "      <td>2.0</td>\n",
       "      <td>1.9</td>\n",
       "      <td>1.8</td>\n",
       "      <td>16.7</td>\n",
       "      <td>...</td>\n",
       "      <td>78.1</td>\n",
       "      <td>73.4</td>\n",
       "      <td>79.4</td>\n",
       "      <td>63.6</td>\n",
       "      <td>64.8</td>\n",
       "      <td>59.1</td>\n",
       "      <td>58.8</td>\n",
       "      <td>51.9</td>\n",
       "      <td>53.6</td>\n",
       "      <td>1</td>\n",
       "    </tr>\n",
       "    <tr>\n",
       "      <th>6</th>\n",
       "      <td>1.6</td>\n",
       "      <td>2.9</td>\n",
       "      <td>0.7</td>\n",
       "      <td>0.0</td>\n",
       "      <td>1.8</td>\n",
       "      <td>1.8</td>\n",
       "      <td>8.3</td>\n",
       "      <td>97.7</td>\n",
       "      <td>210.3</td>\n",
       "      <td>199.3</td>\n",
       "      <td>...</td>\n",
       "      <td>133.3</td>\n",
       "      <td>96.1</td>\n",
       "      <td>65.6</td>\n",
       "      <td>48.4</td>\n",
       "      <td>41.0</td>\n",
       "      <td>35.5</td>\n",
       "      <td>35.2</td>\n",
       "      <td>31.7</td>\n",
       "      <td>30.1</td>\n",
       "      <td>1</td>\n",
       "    </tr>\n",
       "    <tr>\n",
       "      <th>7</th>\n",
       "      <td>1.0</td>\n",
       "      <td>1.9</td>\n",
       "      <td>1.7</td>\n",
       "      <td>1.8</td>\n",
       "      <td>3.5</td>\n",
       "      <td>2.0</td>\n",
       "      <td>4.2</td>\n",
       "      <td>57.1</td>\n",
       "      <td>141.1</td>\n",
       "      <td>155.0</td>\n",
       "      <td>...</td>\n",
       "      <td>190.6</td>\n",
       "      <td>168.2</td>\n",
       "      <td>140.2</td>\n",
       "      <td>110.6</td>\n",
       "      <td>83.5</td>\n",
       "      <td>72.5</td>\n",
       "      <td>60.7</td>\n",
       "      <td>55.1</td>\n",
       "      <td>47.1</td>\n",
       "      <td>1</td>\n",
       "    </tr>\n",
       "    <tr>\n",
       "      <th>8</th>\n",
       "      <td>2.2</td>\n",
       "      <td>1.3</td>\n",
       "      <td>0.6</td>\n",
       "      <td>3.1</td>\n",
       "      <td>1.5</td>\n",
       "      <td>3.1</td>\n",
       "      <td>26.6</td>\n",
       "      <td>110.5</td>\n",
       "      <td>190.2</td>\n",
       "      <td>193.1</td>\n",
       "      <td>...</td>\n",
       "      <td>79.2</td>\n",
       "      <td>66.2</td>\n",
       "      <td>56.2</td>\n",
       "      <td>43.9</td>\n",
       "      <td>42.0</td>\n",
       "      <td>35.5</td>\n",
       "      <td>28.7</td>\n",
       "      <td>24.6</td>\n",
       "      <td>27.3</td>\n",
       "      <td>1</td>\n",
       "    </tr>\n",
       "    <tr>\n",
       "      <th>9</th>\n",
       "      <td>0.0</td>\n",
       "      <td>1.3</td>\n",
       "      <td>4.0</td>\n",
       "      <td>1.1</td>\n",
       "      <td>3.0</td>\n",
       "      <td>0.0</td>\n",
       "      <td>1.5</td>\n",
       "      <td>23.7</td>\n",
       "      <td>132.6</td>\n",
       "      <td>185.8</td>\n",
       "      <td>...</td>\n",
       "      <td>93.7</td>\n",
       "      <td>88.3</td>\n",
       "      <td>72.4</td>\n",
       "      <td>60.7</td>\n",
       "      <td>50.8</td>\n",
       "      <td>40.0</td>\n",
       "      <td>31.9</td>\n",
       "      <td>32.5</td>\n",
       "      <td>30.7</td>\n",
       "      <td>1</td>\n",
       "    </tr>\n",
       "  </tbody>\n",
       "</table>\n",
       "<p>10 rows × 61 columns</p>\n",
       "</div>"
      ],
      "text/plain": [
       "    S00  S01  S02  S03  S04  S05   S06    S07    S08    S09  ...    S51  \\\n",
       "0  14.1  0.0  3.6  0.0  3.2  0.2   6.1   60.6  100.3  114.3  ...   51.8   \n",
       "1   0.0  0.5  2.2  1.6  2.9  0.0   1.6   14.9   39.7   44.5  ...   81.8   \n",
       "2   1.0  1.9  0.2  1.4  2.6  1.7  74.9  344.9  440.8  354.9  ...   85.0   \n",
       "3   1.6  2.1  1.2  0.7  1.2  1.7   1.2   68.4  233.1  277.7  ...   52.3   \n",
       "4   1.4  2.7  2.7  0.7  0.5  4.2   0.2    3.8    4.2   26.5  ...   93.6   \n",
       "5   1.1  2.9  2.7  1.9  0.0  1.1   2.0    1.9    1.8   16.7  ...   78.1   \n",
       "6   1.6  2.9  0.7  0.0  1.8  1.8   8.3   97.7  210.3  199.3  ...  133.3   \n",
       "7   1.0  1.9  1.7  1.8  3.5  2.0   4.2   57.1  141.1  155.0  ...  190.6   \n",
       "8   2.2  1.3  0.6  3.1  1.5  3.1  26.6  110.5  190.2  193.1  ...   79.2   \n",
       "9   0.0  1.3  4.0  1.1  3.0  0.0   1.5   23.7  132.6  185.8  ...   93.7   \n",
       "\n",
       "     S52    S53    S54   S55   S56   S57   S58   S59  Electron  \n",
       "0   41.3   30.6   26.3  23.2  19.2  17.1  15.1  11.9         1  \n",
       "1   73.3   67.1   60.1  50.2  41.1  37.2  33.0  33.0         1  \n",
       "2   74.5   62.1   57.1  57.4  46.8  47.7  43.1  43.8         1  \n",
       "3   45.3   35.2   30.6  28.3  28.3  25.6  19.1  19.0         1  \n",
       "4   87.3   79.8   73.9  61.6  55.1  50.0  41.0  42.1         1  \n",
       "5   73.4   79.4   63.6  64.8  59.1  58.8  51.9  53.6         1  \n",
       "6   96.1   65.6   48.4  41.0  35.5  35.2  31.7  30.1         1  \n",
       "7  168.2  140.2  110.6  83.5  72.5  60.7  55.1  47.1         1  \n",
       "8   66.2   56.2   43.9  42.0  35.5  28.7  24.6  27.3         1  \n",
       "9   88.3   72.4   60.7  50.8  40.0  31.9  32.5  30.7         1  \n",
       "\n",
       "[10 rows x 61 columns]"
      ]
     },
     "execution_count": 6,
     "metadata": {},
     "output_type": "execute_result"
    }
   ],
   "source": [
    "data.head(10)"
   ]
  },
  {
   "cell_type": "markdown",
   "metadata": {},
   "source": [
    "## 2) Create a vector with sampling time values for the plots"
   ]
  },
  {
   "cell_type": "code",
   "execution_count": 7,
   "metadata": {},
   "outputs": [],
   "source": [
    "## series of sampling time values\n",
    "\n",
    "t = np.arange(0.5, 60., 1., dtype=float)\n",
    "#print(t)"
   ]
  },
  {
   "cell_type": "markdown",
   "metadata": {},
   "source": [
    "## Plot one signal, electron or pion: change the index [0] in the \"plot\" command"
   ]
  },
  {
   "cell_type": "code",
   "execution_count": 8,
   "metadata": {},
   "outputs": [],
   "source": [
    "## plot sampled signal for electrons and pions\n",
    "\n",
    "#data_plot = data.drop('Electron', axis=1)\n",
    "#data_plot_np = data_plot.to_numpy()\n",
    "#np.size(data_plot_np, 0)\n",
    "#plt.plot(t, data_plot_np[0], \"r--\")"
   ]
  },
  {
   "cell_type": "markdown",
   "metadata": {},
   "source": [
    "## Select electrons"
   ]
  },
  {
   "cell_type": "code",
   "execution_count": 9,
   "metadata": {},
   "outputs": [
    {
     "name": "stdout",
     "output_type": "stream",
     "text": [
      "<class 'pandas.core.frame.DataFrame'>\n",
      "(13970, 61)\n"
     ]
    },
    {
     "data": {
      "text/plain": [
       "13970"
      ]
     },
     "execution_count": 9,
     "metadata": {},
     "output_type": "execute_result"
    }
   ],
   "source": [
    "## plot sampled signal for electrons\n",
    "\n",
    "mask_ele = data['Electron'] == 1\n",
    "data_ele = data[mask_ele]\n",
    "print(type(data_ele))\n",
    "print(data_ele.shape)\n",
    "data_ele_plot = data_ele.drop('Electron', axis=1)\n",
    "data_ele_plot_np = data_ele_plot.to_numpy()\n",
    "np.size(data_ele_plot_np, 0)"
   ]
  },
  {
   "cell_type": "markdown",
   "metadata": {},
   "source": [
    "## Plot signal [index]"
   ]
  },
  {
   "cell_type": "code",
   "execution_count": 10,
   "metadata": {},
   "outputs": [
    {
     "data": {
      "text/plain": [
       "[<matplotlib.lines.Line2D at 0x7fccb1870358>]"
      ]
     },
     "execution_count": 10,
     "metadata": {},
     "output_type": "execute_result"
    },
    {
     "data": {
      "image/png": "[encoded data removed]",
      "text/plain": [
       "<Figure size 432x288 with 1 Axes>"
      ]
     },
     "metadata": {
      "needs_background": "light"
     },
     "output_type": "display_data"
    }
   ],
   "source": [
    "plt.plot(t, data_ele_plot_np[200], \"r--\")"
   ]
  },
  {
   "cell_type": "markdown",
   "metadata": {},
   "source": [
    "## Calculate average signal and plot"
   ]
  },
  {
   "cell_type": "code",
   "execution_count": 11,
   "metadata": {},
   "outputs": [
    {
     "data": {
      "text/plain": [
       "[<matplotlib.lines.Line2D at 0x7fccb1343320>]"
      ]
     },
     "execution_count": 11,
     "metadata": {},
     "output_type": "execute_result"
    },
    {
     "data": {
      "image/png": "[encoded data removed]",
      "text/plain": [
       "<Figure size 432x288 with 1 Axes>"
      ]
     },
     "metadata": {
      "needs_background": "light"
     },
     "output_type": "display_data"
    }
   ],
   "source": [
    "## calculate average sampled signal\n",
    "\n",
    "i = 0\n",
    "signal_ele = [60]\n",
    "nsampl_ele = 10000\n",
    "while i < nsampl_ele:\n",
    "    signal_ele += data_ele_plot_np[i]\n",
    "    i = i + 1\n",
    "\n",
    "signal_ele /= nsampl_ele\n",
    "plt.plot(t, signal_ele)\n"
   ]
  },
  {
   "cell_type": "markdown",
   "metadata": {},
   "source": [
    "## Select pions"
   ]
  },
  {
   "cell_type": "code",
   "execution_count": 12,
   "metadata": {},
   "outputs": [
    {
     "name": "stdout",
     "output_type": "stream",
     "text": [
      "<class 'pandas.core.frame.DataFrame'>\n",
      "(13970, 61)\n"
     ]
    },
    {
     "data": {
      "text/plain": [
       "13970"
      ]
     },
     "execution_count": 12,
     "metadata": {},
     "output_type": "execute_result"
    }
   ],
   "source": [
    "## plot signal for pions\n",
    "\n",
    "mask_pio = data['Electron'] == 0\n",
    "data_pio = data[mask_pio]\n",
    "print(type(data_pio))\n",
    "print(data_pio.shape)\n",
    "data_pio_plot = data_pio.drop('Electron', axis=1)\n",
    "data_pio_plot_np = data_pio_plot.to_numpy()\n",
    "np.size(data_pio_plot_np, 0)"
   ]
  },
  {
   "cell_type": "markdown",
   "metadata": {},
   "source": [
    "## Plot signal [index]"
   ]
  },
  {
   "cell_type": "code",
   "execution_count": 13,
   "metadata": {},
   "outputs": [
    {
     "data": {
      "text/plain": [
       "[<matplotlib.lines.Line2D at 0x7fccb05e6828>]"
      ]
     },
     "execution_count": 13,
     "metadata": {},
     "output_type": "execute_result"
    },
    {
     "data": {
      "image/png": "[encoded data removed]",
      "text/plain": [
       "<Figure size 432x288 with 1 Axes>"
      ]
     },
     "metadata": {
      "needs_background": "light"
     },
     "output_type": "display_data"
    }
   ],
   "source": [
    "plt.plot(t, data_ele_plot_np[200], \"r--\")"
   ]
  },
  {
   "cell_type": "markdown",
   "metadata": {},
   "source": [
    "## Calculate average signal and plot"
   ]
  },
  {
   "cell_type": "code",
   "execution_count": 14,
   "metadata": {},
   "outputs": [
    {
     "data": {
      "text/plain": [
       "[<matplotlib.lines.Line2D at 0x7fccb05cce48>]"
      ]
     },
     "execution_count": 14,
     "metadata": {},
     "output_type": "execute_result"
    },
    {
     "data": {
      "image/png": "[encoded data removed]",
      "text/plain": [
       "<Figure size 432x288 with 1 Axes>"
      ]
     },
     "metadata": {
      "needs_background": "light"
     },
     "output_type": "display_data"
    }
   ],
   "source": [
    "## calculate average sampled signal\n",
    "\n",
    "i = 0\n",
    "signal_pio = [60]\n",
    "nsampl_pio = 10000\n",
    "while i < nsampl_pio:\n",
    "    signal_pio += data_pio_plot_np[i]\n",
    "    i = i + 1\n",
    "\n",
    "signal_pio /= nsampl_pio\n",
    "plt.plot(t, signal_pio)"
   ]
  },
  {
   "cell_type": "markdown",
   "metadata": {},
   "source": [
    "## 3) Prepare data for training, validation and testing"
   ]
  },
  {
   "cell_type": "code",
   "execution_count": 15,
   "metadata": {},
   "outputs": [],
   "source": [
    "from sklearn.model_selection import train_test_split"
   ]
  },
  {
   "cell_type": "code",
   "execution_count": 16,
   "metadata": {},
   "outputs": [],
   "source": [
    "data_X = data.loc[:,'S00':'S59']\n",
    "data_y = data['Electron']\n",
    "X_train, X_tmp, y_train, y_tmp = train_test_split(data_X, data_y, test_size=0.4, random_state=1)\n",
    "X_test, X_validation, y_test, y_validation = train_test_split(X_tmp, y_tmp, test_size=0.5, random_state=1)"
   ]
  },
  {
   "cell_type": "markdown",
   "metadata": {},
   "source": [
    "## 4) k-Nearest neighbor classification "
   ]
  },
  {
   "cell_type": "code",
   "execution_count": 17,
   "metadata": {},
   "outputs": [],
   "source": [
    "from sklearn import neighbors"
   ]
  },
  {
   "cell_type": "code",
   "execution_count": 18,
   "metadata": {},
   "outputs": [],
   "source": [
    "n_neighbors = 1\n",
    "clf = neighbors.KNeighborsClassifier(n_neighbors, weights='uniform')"
   ]
  },
  {
   "cell_type": "code",
   "execution_count": 19,
   "metadata": {},
   "outputs": [
    {
     "data": {
      "text/plain": [
       "KNeighborsClassifier(algorithm='auto', leaf_size=30, metric='minkowski',\n",
       "                     metric_params=None, n_jobs=None, n_neighbors=1, p=2,\n",
       "                     weights='uniform')"
      ]
     },
     "execution_count": 19,
     "metadata": {},
     "output_type": "execute_result"
    }
   ],
   "source": [
    "clf.fit(X_train, y_train)"
   ]
  },
  {
   "cell_type": "markdown",
   "metadata": {},
   "source": [
    "## Estimate what this classifier gives on the validation data sample"
   ]
  },
  {
   "cell_type": "code",
   "execution_count": 20,
   "metadata": {},
   "outputs": [],
   "source": [
    "class_estimate = clf.predict(X_validation)"
   ]
  },
  {
   "cell_type": "markdown",
   "metadata": {},
   "source": [
    "## Calculate by hand how many times the estimation is correct on the validation sample"
   ]
  },
  {
   "cell_type": "code",
   "execution_count": 21,
   "metadata": {},
   "outputs": [
    {
     "name": "stdout",
     "output_type": "stream",
     "text": [
      "Accuracy =  0.7353256979241232\n"
     ]
    }
   ],
   "source": [
    "n_objs = y_validation.shape[0]\n",
    "correct_number = sum(class_estimate == y_validation)\n",
    "accuracy = float(correct_number/n_objs)\n",
    "print('Accuracy = ', accuracy)"
   ]
  },
  {
   "cell_type": "markdown",
   "metadata": {},
   "source": [
    "## Use a score function to verify the accuracy"
   ]
  },
  {
   "cell_type": "code",
   "execution_count": 22,
   "metadata": {},
   "outputs": [
    {
     "name": "stdout",
     "output_type": "stream",
     "text": [
      "R2_kn_validation =  0.7353256979241232\n"
     ]
    }
   ],
   "source": [
    "R2_kn_validation = clf.score(X_validation, y_validation)\n",
    "print(\"R2_kn_validation = \", R2_kn_validation)"
   ]
  },
  {
   "cell_type": "markdown",
   "metadata": {},
   "source": [
    "## 5) Repeat the k-Nearest neighbor and compare with a decision tree classifier"
   ]
  },
  {
   "cell_type": "code",
   "execution_count": 23,
   "metadata": {},
   "outputs": [],
   "source": [
    "from sklearn.metrics import accuracy_score"
   ]
  },
  {
   "cell_type": "code",
   "execution_count": 24,
   "metadata": {},
   "outputs": [],
   "source": [
    "nn = 1\n",
    "weights = 'uniform'              \n",
    "\n",
    "classifier_kn = neighbors.KNeighborsClassifier(nn, weights=weights)"
   ]
  },
  {
   "cell_type": "code",
   "execution_count": 25,
   "metadata": {},
   "outputs": [
    {
     "name": "stdout",
     "output_type": "stream",
     "text": [
      "Accuracy give by kN:  0.7353256979241232\n"
     ]
    }
   ],
   "source": [
    "classifier_kn.fit(X_train, y_train)\n",
    "\n",
    "class_estimate_kn = classifier_kn.predict(X_validation)\n",
    "\n",
    "accuracy_kn = accuracy_score(y_validation, class_estimate_kn, normalize=True)\n",
    "\n",
    "print('Accuracy give by kN: ', accuracy_kn)"
   ]
  },
  {
   "cell_type": "code",
   "execution_count": 26,
   "metadata": {},
   "outputs": [
    {
     "name": "stdout",
     "output_type": "stream",
     "text": [
      "Accuracy calculated on test sample with kN :  0.7301360057265569\n"
     ]
    }
   ],
   "source": [
    "class_estimate_kn_test = classifier_kn.predict(X_test)\n",
    "\n",
    "accuracy_kn_test = accuracy_score(class_estimate_kn_test, y_test, normalize=True)\n",
    "\n",
    "print('Accuracy calculated on test sample with kN : ', accuracy_kn_test)"
   ]
  },
  {
   "cell_type": "markdown",
   "metadata": {},
   "source": [
    "## 5a) How often electrons and pions are misclassified ?"
   ]
  },
  {
   "cell_type": "code",
   "execution_count": 27,
   "metadata": {},
   "outputs": [
    {
     "name": "stderr",
     "output_type": "stream",
     "text": [
      "/usr/local/lib/python3.6/dist-packages/ipykernel_launcher.py:2: UserWarning: Boolean Series key will be reindexed to match DataFrame index.\n",
      "  \n",
      "/usr/local/lib/python3.6/dist-packages/ipykernel_launcher.py:3: UserWarning: Boolean Series key will be reindexed to match DataFrame index.\n",
      "  This is separate from the ipykernel package so we can avoid doing imports until\n"
     ]
    }
   ],
   "source": [
    "# separate electron/pion samples\n",
    "X_ele_test = X_test[mask_ele]\n",
    "X_pio_test = X_test[mask_pio]\n",
    "y_ele_test = y_test[mask_ele]\n",
    "y_pio_test = y_test[mask_pio]"
   ]
  },
  {
   "cell_type": "code",
   "execution_count": 28,
   "metadata": {},
   "outputs": [
    {
     "name": "stdout",
     "output_type": "stream",
     "text": [
      "Accuracy calculated on test sample with kN for electrons :  0.7229219143576826\n"
     ]
    }
   ],
   "source": [
    "class_estimate_kn_ele_test = classifier_kn.predict(X_ele_test)\n",
    "accuracy_kn_ele_test = accuracy_score(class_estimate_kn_ele_test, y_ele_test, normalize=True)\n",
    "print('Accuracy calculated on test sample with kN for electrons : ', accuracy_kn_ele_test)"
   ]
  },
  {
   "cell_type": "code",
   "execution_count": 29,
   "metadata": {},
   "outputs": [
    {
     "name": "stdout",
     "output_type": "stream",
     "text": [
      "Accuracy calculated on test sample with kN for pions :  0.7372730509077964\n"
     ]
    }
   ],
   "source": [
    "class_estimate_kn_pio_test = classifier_kn.predict(X_pio_test)\n",
    "accuracy_kn_pio_test = accuracy_score(class_estimate_kn_pio_test, y_pio_test, normalize=True)\n",
    "print('Accuracy calculated on test sample with kN for pions : ', accuracy_kn_pio_test)"
   ]
  },
  {
   "cell_type": "markdown",
   "metadata": {},
   "source": [
    "## Classify with a decision tree"
   ]
  },
  {
   "cell_type": "code",
   "execution_count": 30,
   "metadata": {},
   "outputs": [],
   "source": [
    "from sklearn import tree\n",
    "classifier_dt = tree.DecisionTreeClassifier()"
   ]
  },
  {
   "cell_type": "markdown",
   "metadata": {},
   "source": [
    "## Train"
   ]
  },
  {
   "cell_type": "code",
   "execution_count": 31,
   "metadata": {},
   "outputs": [
    {
     "data": {
      "text/plain": [
       "DecisionTreeClassifier(class_weight=None, criterion='gini', max_depth=None,\n",
       "                       max_features=None, max_leaf_nodes=None,\n",
       "                       min_impurity_decrease=0.0, min_impurity_split=None,\n",
       "                       min_samples_leaf=1, min_samples_split=2,\n",
       "                       min_weight_fraction_leaf=0.0, presort=False,\n",
       "                       random_state=None, splitter='best')"
      ]
     },
     "execution_count": 31,
     "metadata": {},
     "output_type": "execute_result"
    }
   ],
   "source": [
    "classifier_dt.fit(X_train, y_train)"
   ]
  },
  {
   "cell_type": "markdown",
   "metadata": {},
   "source": [
    "## Validate"
   ]
  },
  {
   "cell_type": "code",
   "execution_count": 32,
   "metadata": {},
   "outputs": [
    {
     "name": "stdout",
     "output_type": "stream",
     "text": [
      "Accuracy give by DT:  0.7313886900501074\n"
     ]
    }
   ],
   "source": [
    "class_estimate_dt = classifier_dt.predict(X_validation)\n",
    "\n",
    "accuracy_dt = accuracy_score(y_validation, class_estimate_dt, normalize=True)\n",
    "\n",
    "print('Accuracy give by DT: ', accuracy_dt)"
   ]
  },
  {
   "cell_type": "markdown",
   "metadata": {},
   "source": [
    "## Test"
   ]
  },
  {
   "cell_type": "code",
   "execution_count": 33,
   "metadata": {},
   "outputs": [
    {
     "name": "stdout",
     "output_type": "stream",
     "text": [
      "Accuracy calculated on test sample with DT :  0.7424838940586972\n"
     ]
    }
   ],
   "source": [
    "class_estimate_dt_test = classifier_dt.predict(X_test)\n",
    "\n",
    "accuracy_dt_test = accuracy_score(class_estimate_dt_test, y_test, normalize=True)\n",
    "\n",
    "print('Accuracy calculated on test sample with DT : ', accuracy_dt_test)"
   ]
  },
  {
   "cell_type": "markdown",
   "metadata": {},
   "source": [
    "## 6) Regression"
   ]
  },
  {
   "cell_type": "code",
   "execution_count": 34,
   "metadata": {},
   "outputs": [],
   "source": [
    "from sklearn import linear_model"
   ]
  },
  {
   "cell_type": "markdown",
   "metadata": {},
   "source": [
    "## 6a) Linear regression"
   ]
  },
  {
   "cell_type": "code",
   "execution_count": 35,
   "metadata": {},
   "outputs": [],
   "source": [
    "regr_lin = linear_model.LinearRegression()"
   ]
  },
  {
   "cell_type": "code",
   "execution_count": 36,
   "metadata": {},
   "outputs": [
    {
     "data": {
      "text/plain": [
       "LinearRegression(copy_X=True, fit_intercept=True, n_jobs=None, normalize=False)"
      ]
     },
     "execution_count": 36,
     "metadata": {},
     "output_type": "execute_result"
    }
   ],
   "source": [
    "regr_lin.fit(X_train, y_train)"
   ]
  },
  {
   "cell_type": "code",
   "execution_count": 37,
   "metadata": {},
   "outputs": [
    {
     "data": {
      "text/plain": [
       "0.24908777477801583"
      ]
     },
     "execution_count": 37,
     "metadata": {},
     "output_type": "execute_result"
    }
   ],
   "source": [
    "regr_lin_val = regr_lin.predict(X_validation)\n",
    "R2_lin_val = regr_lin.score(X_validation, y_validation)\n",
    "R2_lin_val"
   ]
  },
  {
   "cell_type": "code",
   "execution_count": 38,
   "metadata": {},
   "outputs": [
    {
     "data": {
      "text/plain": [
       "array([0.369135  , 0.71974598, 0.40324739, 1.45539753, 0.31720104,\n",
       "       0.7375019 , 0.24252271, 0.49612554, 0.38176603, 0.5980058 ])"
      ]
     },
     "execution_count": 38,
     "metadata": {},
     "output_type": "execute_result"
    }
   ],
   "source": [
    "regr_lin_val[:10]"
   ]
  },
  {
   "cell_type": "code",
   "execution_count": 39,
   "metadata": {},
   "outputs": [
    {
     "data": {
      "text/plain": [
       "[<matplotlib.lines.Line2D at 0x7fccab35f3c8>]"
      ]
     },
     "execution_count": 39,
     "metadata": {},
     "output_type": "execute_result"
    },
    {
     "data": {
      "image/png": "[encoded data removed]",
      "text/plain": [
       "<Figure size 432x288 with 1 Axes>"
      ]
     },
     "metadata": {
      "needs_background": "light"
     },
     "output_type": "display_data"
    }
   ],
   "source": [
    "plt.plot(regr_lin_val, \"r--\")"
   ]
  },
  {
   "cell_type": "code",
   "execution_count": 40,
   "metadata": {},
   "outputs": [],
   "source": [
    "from matplotlib import pyplot"
   ]
  },
  {
   "cell_type": "code",
   "execution_count": 41,
   "metadata": {},
   "outputs": [
    {
     "data": {
      "text/plain": [
       "(array([2.630e+02, 1.217e+03, 1.154e+03, 7.790e+02, 6.150e+02, 4.610e+02,\n",
       "        3.060e+02, 2.410e+02, 1.660e+02, 1.070e+02, 6.200e+01, 5.600e+01,\n",
       "        4.600e+01, 2.200e+01, 3.100e+01, 1.400e+01, 1.100e+01, 1.100e+01,\n",
       "        1.100e+01, 6.000e+00, 0.000e+00, 0.000e+00, 1.000e+00, 3.000e+00,\n",
       "        2.000e+00, 0.000e+00, 1.000e+00, 0.000e+00, 1.000e+00, 1.000e+00]),\n",
       " array([0.1823294 , 0.25908271, 0.33583603, 0.41258934, 0.48934266,\n",
       "        0.56609598, 0.64284929, 0.71960261, 0.79635592, 0.87310924,\n",
       "        0.94986256, 1.02661587, 1.10336919, 1.1801225 , 1.25687582,\n",
       "        1.33362914, 1.41038245, 1.48713577, 1.56388908, 1.6406424 ,\n",
       "        1.71739572, 1.79414903, 1.87090235, 1.94765567, 2.02440898,\n",
       "        2.1011623 , 2.17791561, 2.25466893, 2.33142225, 2.40817556,\n",
       "        2.48492888]),\n",
       " <a list of 30 Patch objects>)"
      ]
     },
     "execution_count": 41,
     "metadata": {},
     "output_type": "execute_result"
    },
    {
     "data": {
      "image/png": "[encoded data removed]",
      "text/plain": [
       "<Figure size 432x288 with 1 Axes>"
      ]
     },
     "metadata": {
      "needs_background": "light"
     },
     "output_type": "display_data"
    }
   ],
   "source": [
    "pyplot.hist(regr_lin_val, density=False, bins=30, log=True)"
   ]
  },
  {
   "cell_type": "code",
   "execution_count": 42,
   "metadata": {},
   "outputs": [
    {
     "name": "stderr",
     "output_type": "stream",
     "text": [
      "/usr/local/lib/python3.6/dist-packages/ipykernel_launcher.py:1: UserWarning: Boolean Series key will be reindexed to match DataFrame index.\n",
      "  \"\"\"Entry point for launching an IPython kernel.\n",
      "/usr/local/lib/python3.6/dist-packages/ipykernel_launcher.py:2: UserWarning: Boolean Series key will be reindexed to match DataFrame index.\n",
      "  \n"
     ]
    }
   ],
   "source": [
    "X_ele_validation = X_validation[mask_ele]\n",
    "X_pio_validation = X_validation[mask_pio]"
   ]
  },
  {
   "cell_type": "code",
   "execution_count": 43,
   "metadata": {},
   "outputs": [
    {
     "data": {
      "text/plain": [
       "(array([ 24., 195., 403., 466., 476., 355., 257., 199., 133.,  89.,  49.,\n",
       "         43.,  36.,  19.,  23.,  13.,   7.,   9.,  10.,   3.,   0.,   0.,\n",
       "          1.,   3.,   2.,   0.,   0.,   0.,   0.,   1.]),\n",
       " array([0.20630868, 0.28226269, 0.3582167 , 0.4341707 , 0.51012471,\n",
       "        0.58607872, 0.66203272, 0.73798673, 0.81394074, 0.88989474,\n",
       "        0.96584875, 1.04180276, 1.11775676, 1.19371077, 1.26966477,\n",
       "        1.34561878, 1.42157279, 1.49752679, 1.5734808 , 1.64943481,\n",
       "        1.72538881, 1.80134282, 1.87729683, 1.95325083, 2.02920484,\n",
       "        2.10515885, 2.18111285, 2.25706686, 2.33302086, 2.40897487,\n",
       "        2.48492888]),\n",
       " <a list of 1 Patch objects>)"
      ]
     },
     "execution_count": 43,
     "metadata": {},
     "output_type": "execute_result"
    },
    {
     "data": {
      "image/png": "[encoded data removed]",
      "text/plain": [
       "<Figure size 432x288 with 1 Axes>"
      ]
     },
     "metadata": {
      "needs_background": "light"
     },
     "output_type": "display_data"
    }
   ],
   "source": [
    "regr_lin_val_ele = regr_lin.predict(X_ele_validation)\n",
    "pyplot.hist(regr_lin_val_ele, density=False, bins=30, log=False, histtype='step')"
   ]
  },
  {
   "cell_type": "code",
   "execution_count": 44,
   "metadata": {},
   "outputs": [
    {
     "data": {
      "text/plain": [
       "(array([209., 994., 834., 373., 145.,  69.,  40.,  31.,  12.,  15.,   5.,\n",
       "          9.,   9.,   6.,   3.,   6.,   1.,   3.,   1.,   3.,   2.,   0.,\n",
       "          0.,   0.,   0.,   0.,   0.,   1.,   0.,   1.]),\n",
       " array([0.1823294 , 0.25435197, 0.32637454, 0.39839711, 0.47041968,\n",
       "        0.54244226, 0.61446483, 0.6864874 , 0.75850997, 0.83053254,\n",
       "        0.90255511, 0.97457769, 1.04660026, 1.11862283, 1.1906454 ,\n",
       "        1.26266797, 1.33469054, 1.40671312, 1.47873569, 1.55075826,\n",
       "        1.62278083, 1.6948034 , 1.76682597, 1.83884855, 1.91087112,\n",
       "        1.98289369, 2.05491626, 2.12693883, 2.19896141, 2.27098398,\n",
       "        2.34300655]),\n",
       " <a list of 1 Patch objects>)"
      ]
     },
     "execution_count": 44,
     "metadata": {},
     "output_type": "execute_result"
    },
    {
     "data": {
      "image/png": "[encoded data removed]",
      "text/plain": [
       "<Figure size 432x288 with 1 Axes>"
      ]
     },
     "metadata": {
      "needs_background": "light"
     },
     "output_type": "display_data"
    }
   ],
   "source": [
    "regr_lin_val_pio = regr_lin.predict(X_pio_validation)\n",
    "pyplot.hist(regr_lin_val_pio, density=False, bins=30, log=False, histtype='step')"
   ]
  },
  {
   "cell_type": "markdown",
   "metadata": {},
   "source": [
    "## This looks like the separation power of the integrated ionization in the chamber"
   ]
  },
  {
   "cell_type": "code",
   "execution_count": 45,
   "metadata": {},
   "outputs": [
    {
     "data": {
      "image/png": "[encoded data removed]",
      "text/plain": [
       "<Figure size 432x288 with 1 Axes>"
      ]
     },
     "metadata": {
      "needs_background": "light"
     },
     "output_type": "display_data"
    }
   ],
   "source": [
    "pyplot.hist([regr_lin_val_ele, regr_lin_val_pio], density=False, bins=30, log=False, histtype='step', label=['ele', 'pio'])\n",
    "plt.legend(loc='upper right')\n",
    "pyplot.show()"
   ]
  },
  {
   "cell_type": "markdown",
   "metadata": {},
   "source": [
    "## 6b) k-Nearest neighbor regression"
   ]
  },
  {
   "cell_type": "code",
   "execution_count": 46,
   "metadata": {},
   "outputs": [
    {
     "data": {
      "text/plain": [
       "0.45603270202020196"
      ]
     },
     "execution_count": 46,
     "metadata": {},
     "output_type": "execute_result"
    }
   ],
   "source": [
    "from sklearn.neighbors import KNeighborsRegressor\n",
    "\n",
    "nn = 50\n",
    "regr_kn = KNeighborsRegressor(nn)\n",
    "\n",
    "regr_kn.fit(X_train, y_train)\n",
    "\n",
    "regr_kn_val = regr_kn.predict(X_validation)\n",
    "\n",
    "R2_kn_val = regr_kn.score(X_validation, y_validation)\n",
    "R2_kn_val"
   ]
  },
  {
   "cell_type": "markdown",
   "metadata": {},
   "source": [
    "## The target is NOT to throw more than 10% of the electrons"
   ]
  },
  {
   "cell_type": "code",
   "execution_count": 47,
   "metadata": {},
   "outputs": [],
   "source": [
    "regr_kn_val_ele = regr_kn.predict(X_ele_validation)\n",
    "regr_kn_val_pio = regr_kn.predict(X_pio_validation)"
   ]
  },
  {
   "cell_type": "code",
   "execution_count": 48,
   "metadata": {},
   "outputs": [
    {
     "data": {
      "image/png": "[encoded data removed]",
      "text/plain": [
       "<Figure size 432x288 with 1 Axes>"
      ]
     },
     "metadata": {
      "needs_background": "light"
     },
     "output_type": "display_data"
    }
   ],
   "source": [
    "pyplot.hist([regr_kn_val_ele, regr_kn_val_pio], density=False, bins=20, log=False, histtype='step', label=['ele', 'pio'])\n",
    "plt.legend(loc='upper right')\n",
    "pyplot.show()"
   ]
  },
  {
   "cell_type": "code",
   "execution_count": 49,
   "metadata": {},
   "outputs": [
    {
     "name": "stdout",
     "output_type": "stream",
     "text": [
      "Electrons rejected:  0.10511363636363637\n"
     ]
    }
   ],
   "source": [
    "n_ele = regr_kn_val_ele.shape[0]\n",
    "reject_ele = float ( sum(regr_kn_val_ele < 0.37) / n_ele )\n",
    "print('Electrons rejected: ', reject_ele)"
   ]
  },
  {
   "cell_type": "code",
   "execution_count": 50,
   "metadata": {},
   "outputs": [
    {
     "name": "stdout",
     "output_type": "stream",
     "text": [
      "Pions rejected : 0.7132034632034632\n"
     ]
    }
   ],
   "source": [
    "n_pio = regr_kn_val_pio.shape[0]\n",
    "reject_pio = float ( sum(regr_kn_val_pio < 0.37) / n_pio )\n",
    "print('Pions rejected :', reject_pio)"
   ]
  },
  {
   "cell_type": "markdown",
   "metadata": {},
   "source": [
    "## Logistic regression"
   ]
  },
  {
   "cell_type": "code",
   "execution_count": 51,
   "metadata": {},
   "outputs": [],
   "source": [
    "from sklearn.linear_model import LogisticRegression"
   ]
  },
  {
   "cell_type": "code",
   "execution_count": 55,
   "metadata": {},
   "outputs": [],
   "source": [
    "regr_logi = LogisticRegression(random_state=0, max_iter=500, solver='liblinear').fit(X_train, y_train)"
   ]
  },
  {
   "cell_type": "code",
   "execution_count": 58,
   "metadata": {},
   "outputs": [],
   "source": [
    "#regr_logi_val_ele = regr_logi.predict(X_ele_validation)\n",
    "#regr_logi_val_pio = regr_logi.predict(X_pio_validation)\n",
    "regr_logi_val_ele = regr_logi.predict_proba(X_ele_validation)\n",
    "regr_logi_val_pio = regr_logi.predict_proba(X_pio_validation)"
   ]
  },
  {
   "cell_type": "code",
   "execution_count": 59,
   "metadata": {},
   "outputs": [
    {
     "data": {
      "image/png": "[encoded data removed]",
      "text/plain": [
       "<Figure size 432x288 with 1 Axes>"
      ]
     },
     "metadata": {
      "needs_background": "light"
     },
     "output_type": "display_data"
    }
   ],
   "source": [
    "pyplot.hist([regr_logi_val_ele, regr_logi_val_pio], density=False, bins=20, log=False, histtype='step', label=['ele', 'pio'])\n",
    "plt.legend(loc='upper right')\n",
    "pyplot.show()"
   ]
  },
  {
   "cell_type": "code",
   "execution_count": null,
   "metadata": {},
   "outputs": [],
   "source": []
  }
 ],
 "metadata": {
  "kernelspec": {
   "display_name": "Python 3",
   "language": "python",
   "name": "python3"
  },
  "language_info": {
   "codemirror_mode": {
    "name": "ipython",
    "version": 3
   },
   "file_extension": ".py",
   "mimetype": "text/x-python",
   "name": "python",
   "nbconvert_exporter": "python",
   "pygments_lexer": "ipython3",
   "version": "3.6.9"
  }
 },
 "nbformat": 4,
 "nbformat_minor": 2
}
